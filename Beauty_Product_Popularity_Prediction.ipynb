{
  "nbformat": 4,
  "nbformat_minor": 0,
  "metadata": {
    "colab": {
      "provenance": []
    },
    "kernelspec": {
      "name": "python3",
      "display_name": "Python 3"
    },
    "language_info": {
      "name": "python"
    }
  },
  "cells": [
    {
      "cell_type": "code",
      "execution_count": null,
      "metadata": {
        "id": "EVa6ybKfoJuB"
      },
      "outputs": [],
      "source": [
        "from IPython.core.interactiveshell import InteractiveShell\n",
        "InteractiveShell.ast_node_interactivity = \"all\"\n",
        "\n",
        "import pandas as pd\n",
        "import numpy as np\n",
        "import matplotlib.pyplot as plt\n",
        "import seaborn as sns\n",
        "\n",
        "from sklearn.model_selection import train_test_split, cross_val_score, GridSearchCV\n",
        "from sklearn.preprocessing import PolynomialFeatures, LabelEncoder\n",
        "from sklearn.metrics import mean_squared_error, r2_score, accuracy_score, recall_score, precision_score, roc_auc_score\n",
        "from sklearn.pipeline import make_pipeline\n",
        "from sklearn.linear_model import LinearRegression, LogisticRegression\n",
        "from sklearn.ensemble import RandomForestClassifier\n",
        "from sklearn.neighbors import KNeighborsClassifier\n",
        "from sklearn.tree import DecisionTreeClassifier\n",
        "from sklearn.feature_extraction.text import CountVectorizer\n",
        "\n",
        "from scipy.stats import mstats\n"
      ]
    },
    {
      "cell_type": "markdown",
      "source": [
        "#Data Exploration"
      ],
      "metadata": {
        "id": "iy5JMtCAsi5m"
      }
    },
    {
      "cell_type": "code",
      "source": [
        "url1 = 'https://raw.githubusercontent.com/dsahota-applied-data-analysis/project-report-tranx897/main/sephora_website_dataset.csv?token=GHSAT0AAAAAACARBDNH7HM75V53KMFYCUCGZDOIE6A'\n",
        "sephora = pd.read_csv(url1)\n",
        "sephora.shape\n",
        "print('\\n')\n",
        "sephora.columns"
      ],
      "metadata": {
        "colab": {
          "base_uri": "https://localhost:8080/"
        },
        "id": "5mxm97BWoWW2",
        "outputId": "228c887a-7464-4a7f-d0c9-5af622908877"
      },
      "execution_count": null,
      "outputs": [
        {
          "output_type": "execute_result",
          "data": {
            "text/plain": [
              "(9168, 21)"
            ]
          },
          "metadata": {},
          "execution_count": 2
        },
        {
          "output_type": "stream",
          "name": "stdout",
          "text": [
            "\n",
            "\n"
          ]
        },
        {
          "output_type": "execute_result",
          "data": {
            "text/plain": [
              "Index(['id', 'brand', 'category', 'name', 'size', 'rating',\n",
              "       'number_of_reviews', 'love', 'price', 'value_price', 'URL',\n",
              "       'MarketingFlags', 'MarketingFlags_content', 'options', 'details',\n",
              "       'how_to_use', 'ingredients', 'online_only', 'exclusive',\n",
              "       'limited_edition', 'limited_time_offer'],\n",
              "      dtype='object')"
            ]
          },
          "metadata": {},
          "execution_count": 2
        }
      ]
    },
    {
      "cell_type": "code",
      "source": [
        "sephora.info()"
      ],
      "metadata": {
        "colab": {
          "base_uri": "https://localhost:8080/"
        },
        "id": "LezTj87yqipx",
        "outputId": "f9fe102f-b0b9-4a4c-f85b-064b903780b1"
      },
      "execution_count": null,
      "outputs": [
        {
          "output_type": "stream",
          "name": "stdout",
          "text": [
            "<class 'pandas.core.frame.DataFrame'>\n",
            "RangeIndex: 9168 entries, 0 to 9167\n",
            "Data columns (total 21 columns):\n",
            " #   Column                  Non-Null Count  Dtype  \n",
            "---  ------                  --------------  -----  \n",
            " 0   id                      9168 non-null   int64  \n",
            " 1   brand                   9168 non-null   object \n",
            " 2   category                9168 non-null   object \n",
            " 3   name                    9168 non-null   object \n",
            " 4   size                    9168 non-null   object \n",
            " 5   rating                  9168 non-null   float64\n",
            " 6   number_of_reviews       9168 non-null   int64  \n",
            " 7   love                    9168 non-null   int64  \n",
            " 8   price                   9168 non-null   float64\n",
            " 9   value_price             9168 non-null   float64\n",
            " 10  URL                     9168 non-null   object \n",
            " 11  MarketingFlags          9168 non-null   bool   \n",
            " 12  MarketingFlags_content  9168 non-null   object \n",
            " 13  options                 9168 non-null   object \n",
            " 14  details                 9168 non-null   object \n",
            " 15  how_to_use              9168 non-null   object \n",
            " 16  ingredients             9168 non-null   object \n",
            " 17  online_only             9168 non-null   int64  \n",
            " 18  exclusive               9168 non-null   int64  \n",
            " 19  limited_edition         9168 non-null   int64  \n",
            " 20  limited_time_offer      9168 non-null   int64  \n",
            "dtypes: bool(1), float64(3), int64(7), object(10)\n",
            "memory usage: 1.4+ MB\n"
          ]
        }
      ]
    },
    {
      "cell_type": "code",
      "source": [
        "#Find categorical variables\n",
        "obj_sephora = sephora.select_dtypes(include='object')\n",
        "obj_cols = obj_sephora.columns\n",
        "obj_cols"
      ],
      "metadata": {
        "colab": {
          "base_uri": "https://localhost:8080/"
        },
        "id": "h2VjAJIOrnRi",
        "outputId": "45979bc5-2ee8-4e7d-f4e3-13417702c5b4"
      },
      "execution_count": null,
      "outputs": [
        {
          "output_type": "execute_result",
          "data": {
            "text/plain": [
              "Index(['brand', 'category', 'name', 'size', 'URL', 'MarketingFlags_content',\n",
              "       'options', 'details', 'how_to_use', 'ingredients'],\n",
              "      dtype='object')"
            ]
          },
          "metadata": {},
          "execution_count": 29
        }
      ]
    },
    {
      "cell_type": "code",
      "source": [
        "# Explore number of unique values for each categorical variables\n",
        "def describe_object(df, col_name):\n",
        "  print(f\"\\nCOLUMN: {col_name}\")\n",
        "  print(f\"{sephora[col_name].nunique()} different values\")\n",
        "\n",
        "for col_name in obj_cols:\n",
        "  describe_object(sephora, col_name)\n",
        "  sephora[col_name].value_counts(dropna=False, normalize=True)\n",
        "  print('\\n')"
      ],
      "metadata": {
        "colab": {
          "base_uri": "https://localhost:8080/"
        },
        "id": "udQPJHsGr8Vg",
        "outputId": "2b579b81-2013-4993-db5f-5bb5cd0e3918"
      },
      "execution_count": null,
      "outputs": [
        {
          "output_type": "stream",
          "name": "stdout",
          "text": [
            "\n",
            "COLUMN: brand\n",
            "324 different values\n"
          ]
        },
        {
          "output_type": "execute_result",
          "data": {
            "text/plain": [
              "SEPHORA COLLECTION    0.054101\n",
              "CLINIQUE              0.025524\n",
              "tarte                 0.018543\n",
              "TOM FORD              0.017561\n",
              "Dior                  0.015816\n",
              "                        ...   \n",
              "SHHHOWERCAP           0.000109\n",
              "Taste Beauty          0.000109\n",
              "bkr                   0.000109\n",
              "Cocofloss             0.000109\n",
              "DL.MD                 0.000109\n",
              "Name: brand, Length: 324, dtype: float64"
            ]
          },
          "metadata": {},
          "execution_count": 30
        },
        {
          "output_type": "stream",
          "name": "stdout",
          "text": [
            "\n",
            "\n",
            "\n",
            "COLUMN: category\n",
            "143 different values\n"
          ]
        },
        {
          "output_type": "execute_result",
          "data": {
            "text/plain": [
              "Perfume                      0.072535\n",
              "Moisturizers                 0.049193\n",
              "Face Serums                  0.041885\n",
              "Value & Gift Sets            0.041230\n",
              "Face Wash & Cleansers        0.026942\n",
              "                               ...   \n",
              "Wellness                     0.000109\n",
              "High Tech Tools              0.000109\n",
              "Hair Styling & Treatments    0.000109\n",
              "Curls & Coils                0.000109\n",
              "Lid Shadow Brush             0.000109\n",
              "Name: category, Length: 143, dtype: float64"
            ]
          },
          "metadata": {},
          "execution_count": 30
        },
        {
          "output_type": "stream",
          "name": "stdout",
          "text": [
            "\n",
            "\n",
            "\n",
            "COLUMN: name\n",
            "9106 different values\n"
          ]
        },
        {
          "output_type": "execute_result",
          "data": {
            "text/plain": [
              "Blush                                     0.000436\n",
              "Lip Gloss                                 0.000327\n",
              "Face Mask                                 0.000327\n",
              "Lipstick                                  0.000327\n",
              "The Foundation Brush                      0.000327\n",
              "                                            ...   \n",
              "Vitamin Nectar Antioxidant Face Mist      0.000109\n",
              "Sugar Roll-on Deodorant Antiperspirant    0.000109\n",
              "Sugar Lip Polish Exfoliator               0.000109\n",
              "Rose Face Mask Mini                       0.000109\n",
              "Happy Birthday Gift Card                  0.000109\n",
              "Name: name, Length: 9106, dtype: float64"
            ]
          },
          "metadata": {},
          "execution_count": 30
        },
        {
          "output_type": "stream",
          "name": "stdout",
          "text": [
            "\n",
            "\n",
            "\n",
            "COLUMN: size\n",
            "1623 different values\n"
          ]
        },
        {
          "output_type": "execute_result",
          "data": {
            "text/plain": [
              "no size             0.344786\n",
              "1.7 oz/ 50 mL       0.054974\n",
              "1 oz/ 30 mL         0.041121\n",
              "3.4 oz/ 100 mL      0.020506\n",
              "0.5 oz/ 15 mL       0.019197\n",
              "                      ...   \n",
              "2 x 1g/ 0.035 oz    0.000109\n",
              "0.078 oz/ 2.2 g     0.000109\n",
              "5.2 oz/ 150 mL      0.000109\n",
              "1.7 oz/50 g         0.000109\n",
              "0.946 oz/ 28 mL     0.000109\n",
              "Name: size, Length: 1623, dtype: float64"
            ]
          },
          "metadata": {},
          "execution_count": 30
        },
        {
          "output_type": "stream",
          "name": "stdout",
          "text": [
            "\n",
            "\n",
            "\n",
            "COLUMN: URL\n",
            "9168 different values\n"
          ]
        },
        {
          "output_type": "execute_result",
          "data": {
            "text/plain": [
              "https://www.sephora.com/product/blu-mediterraneo-minature-set-P443401?icid2=products grid:p443401                        0.000109\n",
              "https://www.sephora.com/product/no-7-bonding-oil-P447376?icid2=products grid:p447376                                     0.000109\n",
              "https://www.sephora.com/product/kinetin-rejuvenating-serum-P439426?icid2=products grid:p439426                           0.000109\n",
              "https://www.sephora.com/product/vitamin-c-suncare-broad-spectrum-spf-30-sunscreen-P439428?icid2=products grid:p439428    0.000109\n",
              "https://www.sephora.com/product/olaplex-hair-perfector-no-3-P428224?icid2=products grid:p428224                          0.000109\n",
              "                                                                                                                           ...   \n",
              "https://www.sephora.com/product/black-tea-age-delay-cream-P217512?icid2=products grid:p217512                            0.000109\n",
              "https://www.sephora.com/product/sugar-strawberry-exfoliating-face-wash-mini-P448192?icid2=products grid:p448192          0.000109\n",
              "https://www.sephora.com/product/fresh-mini-masking-kit-gift-set-P454785?icid2=products grid:p454785                      0.000109\n",
              "https://www.sephora.com/product/sugar-face-polish-r-mini-P426824?icid2=products grid:p426824                             0.000109\n",
              "https://www.sephora.com/product/happy-birthday-gift-card-P411049?icid2=products grid:p411049                             0.000109\n",
              "Name: URL, Length: 9168, dtype: float64"
            ]
          },
          "metadata": {},
          "execution_count": 30
        },
        {
          "output_type": "stream",
          "name": "stdout",
          "text": [
            "\n",
            "\n",
            "\n",
            "COLUMN: MarketingFlags_content\n",
            "10 different values\n"
          ]
        },
        {
          "output_type": "execute_result",
          "data": {
            "text/plain": [
              "0                                                   0.522033\n",
              "exclusive                                           0.184555\n",
              "online only                                         0.166667\n",
              "exclusive · online only                             0.034686\n",
              "limited edition · exclusive                         0.032395\n",
              "limited edition                                     0.025851\n",
              "limited edition · online only                       0.020506\n",
              "limited edition · exclusive · online only           0.012980\n",
              "limited time offer                                  0.000218\n",
              "limited time offer · limited edition · exclusive    0.000109\n",
              "Name: MarketingFlags_content, dtype: float64"
            ]
          },
          "metadata": {},
          "execution_count": 30
        },
        {
          "output_type": "stream",
          "name": "stdout",
          "text": [
            "\n",
            "\n",
            "\n",
            "COLUMN: options\n",
            "564 different values\n"
          ]
        },
        {
          "output_type": "execute_result",
          "data": {
            "text/plain": [
              "no options                                                                                                                                               0.913722\n",
              " - 1.7 oz/ 50 mL Eau de Parfum Spray                                                                                                                     0.001745\n",
              " - 1.7 oz/ 50 mL Eau de Parfum Spray  - 3.4 oz/ 100 mL Eau de Parfum Spray                                                                               0.001527\n",
              " - 1.0 oz/ 30 mL  Spray - 3.4 oz/ 100 mL  Spray                                                                                                          0.001418\n",
              " - 0.33 oz/ 10 mL Eau de Parfum Spray                                                                                                                    0.001309\n",
              "                                                                                                                                                           ...   \n",
              " - 1 oz Eau de Parfum Spray - 1.7 oz Eau de Parfum Spray                                                                                                 0.000109\n",
              " - 1.7 oz/ 50 mL Eau de Toilette Spray - 2.6 oz/ 80 mL Eau de Toilette Spray                                                                             0.000109\n",
              " - 1.7 oz/ 50 mL Eau de Parfum Spray  - 2.6 oz/ 80 mL Eau de Parfum Spray - 0.67 oz/ 20 mL Eau de Parfum Rollerball                                      0.000109\n",
              " - 2.5 fl oz/ 75mL Eau de Parfum Spray                                                                                                                   0.000109\n",
              " - 1.7 oz/ 50 mL Eau de Parfum Spray Vetiver Elemi Eau de Parfum  - Out of stock: 0.33 oz/ 11 mL Eau de Parfum Rollerball Vetiver Elemi Eau de Parfum    0.000109\n",
              "Name: options, Length: 564, dtype: float64"
            ]
          },
          "metadata": {},
          "execution_count": 30
        },
        {
          "output_type": "stream",
          "name": "stdout",
          "text": [
            "\n",
            "\n",
            "\n",
            "COLUMN: details\n",
            "8839 different values\n"
          ]
        },
        {
          "output_type": "execute_result",
          "data": {
            "text/plain": [
              "no details                                                                                                                                                                                                                                                                                                                                                                                                                                                                                                                                                                                                                                                                                                                                                                                                                                                                                                                                                                                                                                                                                                                                                                                                                                                                                                                                                                                                                                                                                                                             0.001527\n",
              "Fragrance Family: Fresh \\nScent Type: Fresh Citrus & Fruits\\nKey Notes: Tunisian Neroli- Italian Bergamot- Sicilian Lemon- Winter Yellow Mandarin- Orange Flower- Lavender\\nFragrance Description: Vibrant. Sparkling. Transportive. To Tom Ford- this scent perfectly captures the cool breezes- sparkling clear water- and lush foliage of the Italian Riviera. His reinvention of a classic eau de cologne features crisp citrus oils- surprising floral notes- and amber undertones to leave a splashy yet substantive impression.                                                                                                                                                                                                                                                                                                                                                                                                                                                                                                                                                                                                                                                                                                                                                                                                                                                                                                                                                                                                 0.000654\n",
              "Fragrance Family: Earthy & WoodyScent Type: Classic WoodsKey Notes: Hinoki Wood- Cedarwood- White MuskAbout: Maison Louis Marie composes delicate scents to enchant your lifestyle with a botanical tradition since 1792. This scent is a savory mixture of hinoki wood accord underlined by notes of cedarwood and patchouli with a strong amber character.What else you need to know: Louis Marie Aubert du Petit Thouars was a pioneer in French botanical history. Marie du Petit Thouars continues his legacy by creating luxurious products that focus on illustrious scents imbued with unique floral fragrances. All of her creations are phthalate-- paraben-- sulfate-- and cruelty-free. Clean at Sephora\\nClean at Sephora is formulated without a list of over 50 ingredients- including sulfates (SLS and SLES)- parabens- phthalates- and more. For the full list- check out the Ingredients tab.                                                                                                                                                                                                                                                                                                                                                                                                                                                                                                                                                                                                                       0.000327\n",
              "Fragrance Family: Florals Scent Type: Warm Florals Key Notes: Wild Iris- Blackcurrant- Patchouli HeartFragrance Description: Maya is a warm floral fragrance that exudes strength of character. A tribute to fierce femininity- Maya is a rare joining of daring florals- iris- and sweet violet leaf with elegant earthy blackcurrant and patchouli heart. It’s a thoughtful indulgence for the inspiring visionary. About the Bottle: This iconic perfume bottle is inspired by the beauty of antique crystal. The decorated cap is hand finished- no two are the same. Discover TOCCA’s brand motto- \"Love yourself\" as a hidden message on every product.About the Fragrance: TOCCA celebrates the art of indulgence and is inspired by old world romance and charm.                                                                                                                                                                                                                                                                                                                                                                                                                                                                                                                                                                                                                                                                                                                                                               0.000327\n",
              "What it is: An elevated and effortless statement hair pin with crystal rhinestones. Hair Type: Straight- Wavy- Curly- and CoilyWhat Else You Need to Know:  Justine Marjan is known for creating some of the most iconic looks on the most glamorous and influential celebrities. KITSCH is a self-financed- female-owned company and global go-to brand for feel good beauty accessories and jewelry- delivering elevated versions of your everyday staples. This hair pin measures 7 centimeters by  2.3 centimeters.                                                                                                                                                                                                                                                                                                                                                                                                                                                                                                                                                                                                                                                                                                                                                                                                                                                                                                                                                                                                                0.000327\n",
              "                                                                                                                                                                                                                                                                                                                                                                                                                                                                                                                                                                                                                                                                                                                                                                                                                                                                                                                                                                                                                                                                                                                                                                                                                                                                                                                                                                                                                                                                                                                                         ...   \n",
              "Fresh Life Eau de Parfum is sensual citrus fragrance that captures the ultimate Fresh moment- conjuring the freshness of a clear blue sky- sweet morning air- a sparkling sun- and velvety water.\\n\\nAiry notes of grapefruit- lilac leaves- and transparent magnolia float above sunny hints of silk amber- warm orange- and tonka flowers- balanced by the aquatic freshness of sweet cucumber- sparkling moss- and morning dew. At the base- Earthy notes of velvet bergamot- vanilla grass- and dreamy cypress anchor the fragrance.\\n\\n“I awake in the early morning to the damp earth- cool and breathing beneath my toes. The fog curls across the pond like the softest cloud; the air is infused with a sweetness. As the rising sun spins everything into sparkling silk- I walk quietly into velvety water- taking care not to disturb the purity of this still moment. As I swim I imagine that I am flying- the water is my blue sky- full of hope and possibilities. I am revived. I am reinvigorated. I am Fresh.”—Lev Glazman- Fresh Co-founder \\nNotes:\\nGrapefruit- Lilac Leaves- Transparent Magnolia- Silk Amber- Warm Orange- And Tonka Flowers- Sweet Cucumber- Sparkling Moss- Bergamot- Vanilla Grass- Cypress.\\nStyle:\\nSensual. Immediate. Fresh.\\n                                                                                                                                                                                                                                                          0.000109\n",
              "This full bodied bouquet begins with citrus notes like Italian lemon- orange- grapefruit- and bergamot blended with hints of jasmine- peach- and musk to add depth and sophistication. Because there is a key citrus note in each layer of Hesperides- this complex citrus fragrance is boldly bright and longer lasting than the typical light- simple citrus scents.Notes:Italian Lemon- Orange- Grapefruit- Bergamot- Lotus Flower- Jasmine- Rhubarb- Musk- Peach.Style:Bright. Crisp. Sophisticated.                                                                                                                                                                                                                                                                                                                                                                                                                                                                                                                                                                                                                                                                                                                                                                                                                                                                                                                                                                                                                               0.000109\n",
              "What it is:A luxurious- moisturizing French-milled soap laced with Fresh's Hesperides scent- a full bodied bouquet of citrus notes like Italian lemon- orange- grapefruit- and bergamot.What it is formulated to do:Gently cleanses and revitalizes the skin.What else you need to know:Oval Soap is French milled- and has no air pockets- which makes the bar and the scent long-lasting.                                                                                                                                                                                                                                                                                                                                                                                                                                                                                                                                                                                                                                                                                                                                                                                                                                                                                                                                                                                                                                                                                                                                            0.000109\n",
              "What it is:A purifying treatment bar for the face and body- made from 100 percent Umbrian Clay.What it is formulated to do:This versatile essential can be used as a deep cleanser- an instantly detoxifying mask- or a spot treatment to heal blemishes and irritation. Umbrian Clay- a proprietary ingredient to Fresh- has supreme anti-inflammatory and absorbent properties. Thanks to its high mineral content- Umbrian Clay absorbs toxins- soothes irritations- reduces breakouts- and aids in the regeneration of healthy skin cells.What it is formulated WITHOUT:- Parabens- Sulfates- PhthalatesWhat else you need to know:Umbrian Clay occurs naturally and solely in the Italian town of Nocera Umbra. It has been the basis of therapeutic treatments for centuries- dating back to the 6th century B.C.                                                                                                                                                                                                                                                                                                                                                                                                                                                                                                                                                                                                                                                                                                                0.000109\n",
              "What it is:\\n- Available in denominations of $10 to $250- with a happy birthday message.\\n- Redeem Gift Cards of $50 or more for a complimentary 45-minute Custom Makeover with a Beauty Advisor.*\\n- Includes a sleek- black- dual-mirrored compact- embossed with the Sephora logo and a gift box.\\n- Can be redeemed on merchandise purchases in store- on Sephora.com- on our U.S. mobile app- and at Sephora inside JCPenney stores.**\\n- Doesn't expire- and both the balance and transaction history can be checked online or in any Sephora store.\\n\\nWhat else you need to know:\\n All Gift Cards should be treated like cash. They cannot be replaced if lost or stolen. Gift Cards cannot be redeemed or exchanged for cash except as required by law.\\n\\n\\nTo purchase multiple Gift Cards- please call Customer Service at 1-877-SEPHORA.\\n\\n\\nTo see our full Gift Card Terms & Conditions- please visit www.sephora.com/giftcardterms.\\n\\n\\n*When you purchase product or redeem a Gift Card valued at $50 or more- you are eligible to receive a complimentary 45-minute Custom Makeover. Custom Makeover must occur at the time of purchase or redemption. Custom Makeovers are currently offered in US and Canadian Sephora Stores (not including Sephora inside JCPenney). Please visit Sephora.com/beautystudio or call a store to book an appointment for a Custom Makeover.\\n\\n\\n**If a Gift Card is redeemed at a U.S. Sephora inside JCPenney store- it must have been originally purchased in the U.S.\\n\\n    0.000109\n",
              "Name: details, Length: 8839, dtype: float64"
            ]
          },
          "metadata": {},
          "execution_count": 30
        },
        {
          "output_type": "stream",
          "name": "stdout",
          "text": [
            "\n",
            "\n",
            "\n",
            "COLUMN: how_to_use\n",
            "6497 different values\n"
          ]
        },
        {
          "output_type": "execute_result",
          "data": {
            "text/plain": [
              "no instructions                                                                                                                                                                                                                                                                                                                                                                                                                                                                                                                                                                                                                                                                                                                                                                                                                  0.171575\n",
              "Suggested Usage:-Fragrance is intensified by the warmth of your own body. Apply in the creases of your knees and elbows for a longer-lasting- stronger scent. -After applying- avoid rubbing or dabbing skin. This breaks down the fragrance- causing it to wear off more quickly. -If you prefer placing fragrance on your wrists- be sure to reapply after frequent hand-washing- as this tends to rinse off the scent. -Replace fragrance after 12 months. Expired perfumes more than a year old lose the integrity of the original scent. Eau de Toilette or Eau de Parfum?: The difference lies in the volume of perfume oil. While EDT contains five to nine percent- EDP contains more- usually eight to 14 percent. EDPs- therefore- last longer and smell more intense.                                                 0.042430\n",
              "Suggested Usage:-Fragrance is intensified by the warmth of your own body. Apply in the creases of your knees and elbows for a longer-lasting- stronger scent. -After applying- avoid rubbing or dabbing skin. This breaks down the fragrance- causing it to wear off more quickly. -If you prefer placing fragrance on your wrists- be sure to reapply after frequent hand-washing- as this tends to rinse off the scent. -Replace fragrance after 12 months. Expired perfumes more than a year old lose the integrity of the original scent.                                                                                                                                                                                                                                                                                    0.003709\n",
              "Suggested Usage:\\n-Fragrance is intensified by the warmth of your own body. Apply in the creases of your knees and elbows for a longer-lasting- stronger scent. \\n-After applying- avoid rubbing or dabbing skin. This breaks down the fragrance- causing it to wear off more quickly. \\n-If you prefer placing fragrance on your wrists- be sure to reapply after frequent hand-washing- as this tends to rinse off the scent. \\n-Replace fragrance after 12 months. Expired perfumes more than a year old lose the integrity of the original scent.\\n\\n Eau de Toilette or Eau de Parfum?:\\nThe difference lies in the volume of perfume oil. While EDT contains five to nine percent- EDP contains more- usually eight to 14 percent. EDPs- therefore- last longer and smell more intense.                                    0.002291\n",
              "Suggested Usage:-Fragrance is intensified by the warmth of your own body. Apply in the creases of your knees and elbows for a longer-lasting- stronger scent. -After applying- avoid rubbing or dabbing skin. This breaks down the fragrance- causing it to wear off more quickly. -If you prefer placing fragrance on your wrists- be sure to reapply after frequent hand-washing- as this tends to rinse off the scent. -Replace fragrance after 12 months. Expired perfumes more than a year old lose the integrity of the original scent. Eau de Toilette or Eau de Parfum?: The difference lies in the volume of perfume oil. While EDT contains five to nine percent- EDP contains more- usually eight to 14 percent. EDPs- therefore- last longer and smell more intense.                                                 0.002072\n",
              "                                                                                                                                                                                                                                                                                                                                                                                                                                                                                                                                                                                                                                                                                                                                                                                                                                   ...   \n",
              "Suggested Usage:-Use the included dual-sided brush to create customized- sophisticated makeup looks with multiple shades and textures.                                                                                                                                                                                                                                                                                                                                                                                                                                                                                                                                                                                                                                                                                           0.000109\n",
              "Suggested Usage:-Apply the foundation using a foundation brush- a sponge- or with your fingertips- starting from the center of the face and blending outwards.-To further perfect the complexion- use Teint Couture Everwear concealer and set your look with Prisme Libre finishing powder.                                                                                                                                                                                                                                                                                                                                                                                                                                                                                                                                     0.000109\n",
              "Suggested Usage:-For a perfect smile- start by shaping the lip contours with Lip Liner Givenchy (sold separately). -Apply the lip gloss- starting from the center of the upper lip and moving toward the outer corner. -Start again from the center of the upper lip and apply towards the other corner. -Repeat these steps for the lower lip.Tip: Shades 1- 3- and 16 are made-to-measure pH-reactive colors that enhance the natural lip color and are different on every woman.-Wear these shades alone or over your favorite Givenchy lipstick.-01 Rose Révélateur enhances the natural pink in your lips. -03 Electric Pink Révélateur has blue reflective pearls- and boldly enhances the natural lip tone. -16 Noir Révélateur is an audacious black shade that enhances the natural tone of lips with a berry depth.    0.000109\n",
              "Suggested Usage:-Use as a finishing powder to set makeup in targeted areas or all over for a radiant- mattifying finish.-With the cap closed- shake to mix and reveal powder.-Use directly from the jar or dispense into the cap.-Press onto skin with the included powder puff- dust on with a brush- or pat onto skin with a damp blending sponge.                                                                                                                                                                                                                                                                                                                                                                                                                                                                             0.000109\n",
              "Suggested Usage:-Use this product as the last step in your skincare routine or as the first step in your makeup routine. -The sheer coverage is just enough to visibly correct redness and even out the look of skin’s tone. -Due to the sheer pigments in this formula- the shade range will work for a wide variety of skin tones.  -Squeeze out a dime-size amount of the product- and use clean fingertips to apply an even layer to clean- dry skin.                                                                                                                                                                                                                                                                                                                                                                        0.000109\n",
              "Name: how_to_use, Length: 6497, dtype: float64"
            ]
          },
          "metadata": {},
          "execution_count": 30
        },
        {
          "output_type": "stream",
          "name": "stdout",
          "text": [
            "\n",
            "\n",
            "\n",
            "COLUMN: ingredients\n",
            "6962 different values\n"
          ]
        },
        {
          "output_type": "execute_result",
          "data": {
            "text/plain": [
              "unknown                                                                                                                                                                                                                                                                                                                                                                                                                                                                                                                                                                                                                                                                                                                                                                                                                                                                                                                                                                                                                                                                                                                                                                                                                                                                                                                                                                                                                                                                                                                                                                                                                                                                                                                                                                                                                                                                                                                                                                                                                                                                                                0.177792\n",
              "Clean at Sephora products are formulated without:\\nSulfates—SLS + SLES- Parabens- Formaldehydes- Formaldehyde-releasing agents- Phthalates- Mineral Oil- Retinyl Palmitate- Oxybenzone- Coal Tar- Hydroquinone- Triclosan- Triclocarban- Undisclosed synthetic fragrances (Products can be formulated with disclosed synthetic fragrances that meet the following two criteria: (1) the synthetic fragrances do not include any of the ingredients listed in numbers 1 through 12 above and (2) the synthetic fragrances are at a concentration below 1% of the total formula) The following type of acrylates: (ethyl acrylate- ethyl methacrylate- methyl methacrylate- butyl methacrylate- hydroxypropyl methacrylate- tetrahydrofurfuryl methacrylate- trimethylolpropane trimethacrylate - aluminum salts)- Animal Oils/Musks/Fats- Benzophenone + Related Compounds- Butoxyethanol- Carbon Black- Lead/Lead Acetate- Methyl Cellosolve + Methoxyethanol- Methylchloroisothiazolinone & Methylisothiazolinone- Mercury + Mercury Compounds (Thimerisol)- Insoluble Plastic Microbeads (This prohibited ingredient applies to products that are meant to be rinsed off )- Resorcinol- Talc (Talc that is free of any asbestos can be used in the formulation provided that Brand conducts testing to ensure that talc is free of any asbestos.)- Toluene- Butylated hydroxyanisole (BHA)- Butylated hydroxytoluene (BHT) that is 0.1% or more of total formula- Ethanolamines DEA/TEA/MEA/ETA- Nanoparticles as defined by the European Commission- Petrolatum and Parrafin that is not USP grade- Phenoxyethanol that is 1% or more of total formulation- Polyacrylamide & Acrylamide- The following types of Styrene (Bromostyrene- Deastyrene/acrylates/dvbcopolymer- sodium styrene/divinylbenzene copolymer - styrene oxide- styrene)- 1-4 Dioxane in final formulas must comply with the thresholds as follows: (10 or < ppm for products that are meant to be rinsed off- wiped off or removed- 3ppm or < for products that are meant to remain on the skin).                               0.004363\n",
              "\\nClean at Sephora products are formulated without:\\nSulfates—SLS + SLES- Parabens- Formaldehydes- Formaldehyde-releasing agents- Phthalates- Mineral Oil- Retinyl Palmitate- Oxybenzone- Coal Tar- Hydroquinone- Triclosan- Triclocarban- Undisclosed synthetic fragrances (Products can be formulated with disclosed synthetic fragrances that meet the following two criteria: (1) the synthetic fragrances do not include any of the ingredients listed in numbers 1 through 12 above and (2) the synthetic fragrances are at a concentration below 1% of the total formula) The following type of acrylates: (ethyl acrylate- ethyl methacrylate- methyl methacrylate- butyl methacrylate- hydroxypropyl methacrylate- tetrahydrofurfuryl methacrylate- trimethylolpropane trimethacrylate - aluminum salts)- Animal Oils/Musks/Fats- Benzophenone + Related Compounds- Butoxyethanol- Carbon Black- Lead/Lead Acetate- Methyl Cellosolve + Methoxyethanol- Methylchloroisothiazolinone & Methylisothiazolinone- Mercury + Mercury Compounds (Thimerisol)- Insoluble Plastic Microbeads (This prohibited ingredient applies to products that are meant to be rinsed off )- Resorcinol- Talc (Talc that is free of any asbestos can be used in the formulation provided that Brand conducts testing to ensure that talc is free of any asbestos.)- Toluene- Butylated hydroxyanisole (BHA)- Butylated hydroxytoluene (BHT) that is 0.1% or more of total formula- Ethanolamines DEA/TEA/MEA/ETA- Nanoparticles as defined by the European Commission- Petrolatum and Parrafin that is not USP grade- Phenoxyethanol that is 1% or more of total formulation- Polyacrylamide & Acrylamide- The following types of Styrene (Bromostyrene- Deastyrene/acrylates/dvbcopolymer- sodium styrene/divinylbenzene copolymer - styrene oxide- styrene)- 1-4 Dioxane in final formulas must comply with the thresholds as follows: (10 or < ppm for products that are meant to be rinsed off- wiped off or removed- 3ppm or < for products that are meant to remain on the skin).                             0.000764\n",
              "Safflower Oil- Fragrance.\\nClean at Sephora products are formulated without:\\nSulfates—SLS + SLES- Parabens- Formaldehydes- Formaldehyde-releasing agents- Phthalates- Mineral Oil- Retinyl Palmitate- Oxybenzone- Coal Tar- Hydroquinone- Triclosan- Triclocarban- Undisclosed synthetic fragrances (Products can be formulated with disclosed synthetic fragrances that meet the following two criteria: (1) the synthetic fragrances do not include any of the ingredients listed in numbers 1 through 12 above and (2) the synthetic fragrances are at a concentration below 1% of the total formula) The following type of acrylates: (ethyl acrylate- ethyl methacrylate- methyl methacrylate- butyl methacrylate- hydroxypropyl methacrylate- tetrahydrofurfuryl methacrylate- trimethylolpropane trimethacrylate - aluminum salts)- Animal Oils/Musks/Fats- Benzophenone + Related Compounds- Butoxyethanol- Carbon Black- Lead/Lead Acetate- Methyl Cellosolve + Methoxyethanol- Methylchloroisothiazolinone & Methylisothiazolinone- Mercury + Mercury Compounds (Thimerisol)- Insoluble Plastic Microbeads (This prohibited ingredient applies to products that are meant to be rinsed off )- Resorcinol- Talc (Talc that is free of any asbestos can be used in the formulation provided that Brand conducts testing to ensure that talc is free of any asbestos.)- Toluene- Butylated hydroxyanisole (BHA)- Butylated hydroxytoluene (BHT) that is 0.1% or more of total formula- Ethanolamines DEA/TEA/MEA/ETA- Nanoparticles as defined by the European Commission- Petrolatum and Parrafin that is not USP grade- Phenoxyethanol that is 1% or more of total formulation- Polyacrylamide & Acrylamide- The following types of Styrene (Bromostyrene- Deastyrene/acrylates/dvbcopolymer- sodium styrene/divinylbenzene copolymer - styrene oxide- styrene)- 1-4 Dioxane in final formulas must comply with the thresholds as follows: (10 or < ppm for products that are meant to be rinsed off- wiped off or removed- 3ppm or < for products that are meant to remain on the skin).    0.000654\n",
              "Soy Wax Blend- Fragrance.                                                                                                                                                                                                                                                                                                                                                                                                                                                                                                                                                                                                                                                                                                                                                                                                                                                                                                                                                                                                                                                                                                                                                                                                                                                                                                                                                                                                                                                                                                                                                                                                                                                                                                                                                                                                                                                                                                                                                                                                                                                                              0.000654\n",
              "                                                                                                                                                                                                                                                                                                                                                                                                                                                                                                                                                                                                                                                                                                                                                                                                                                                                                                                                                                                                                                                                                                                                                                                                                                                                                                                                                                                                                                                                                                                                                                                                                                                                                                                                                                                                                                                                                                                                                                                                                                                                                                         ...   \n",
              "-Shea Butter: Moisturizes.\\n\\n-Vitamins C and E: Provide antioxidant protection.\\n\\n\\n Water- Hexyldecanol- Hexyldecyl Laurate- Butylene Glycol- Polysorbate 60- Sorbitan Stearate- Fragrance- Cetyl Alcohol- Butyrospermum Parkii (Shea Butter)- Tocopheryl Acetate- Ascorbic Acid- Caprylyl Glycol- Carbomer- Allantoin- Hexylene Glycol- Tetrasodium Edta- Sodium Hydroxide- Peg-40 Castor Oil- BHT- Phenoxyethanol- Limonene- Linalool- Citral.                                                                                                                                                                                                                                                                                                                                                                                                                                                                                                                                                                                                                                                                                                                                                                                                                                                                                                                                                                                                                                                                                                                                                                                                                                                                                                                                                                                                                                                                                                                                                                                                                                                    0.000109\n",
              "Jojoba Oil (Buxus Chinensis)- Borage Seed Oil (Borago Officinalis)- Grape Seed Oil (Vitis Vinifera)- Rice Bran Oil (Oryza Sativa)- Ginseng Extract (Panax Ginseng)- Passionflower Extract (Passiflora Incarnata)- Arnica Extract (Arnica Montana)- Camellia Extract (Camellia Oleifera)- Orange Oil (Citrus Aurantium Dulcis)- Grapefruit Oil (Citrus Grandis)- Bourgeon de Cassis (Ribes Nigrum)- Spearmint Oil (Mentha Viridis)- BHT.                                                                                                                                                                                                                                                                                                                                                                                                                                                                                                                                                                                                                                                                                                                                                                                                                                                                                                                                                                                                                                                                                                                                                                                                                                                                                                                                                                                                                                                                                                                                                                                                                                                                0.000109\n",
              "-Evening primrose oil: Helps renew the skin. \\n-Sweet Almond and Jojoba Seed Oils: Help restore moisture and suppleness. \\n-Apricot Kernel and Sunflower Seed Oils: Soften and protect with vitamin E. \\n-Passionflower Seed Oil: Maintains elasticity and smoothness.\\n-Ginseng Root Extract: Helps tone and rejuvenate.\\n-White Lily Flower Extract: Soothes.\\n\\nPrunus Amygdalus Dulcis (Sweet Almond) Oil- Helianthus Annuus (Sunflower) Seed Oil- Prunus Armeniaca (Apricot) Kernel Oil- Simmondsia Chinensis (Jojoba) Seed Oil- Passiflora Incarnata Seed Oil- Oenothera Biennis (Evening Primrose) Oil- Parfum (Fragrance)- Sucrose Acetate Isobutyrate- Panax Ginseng Root Extract- Lilium Candidum Flower Extract- Bht- Tocopherol- Limonene- Citral.\\n                                                                                                                                                                                                                                                                                                                                                                                                                                                                                                                                                                                                                                                                                                                                                                                                                                                                                                                                                                                                                                                                                                                                                                                                                                                                                                                                       0.000109\n",
              "Sodium Laureth Sulfate- Water (Aqua)- Peg-7 Glyceryl Cocoate- Acrylates Steareth-20 Methacrylate Copolymer- Cocamide DEA- Cocamidopropyl Betaine- Fragrance (Parfum)- Sodium Chloride- Peg-40 Hydrogenated Castor Oil- Shea Butter (Butyrospermum Parkii)- Tea- Phenoxyethanol-Methylparaben- Ethylparaben- Propylparaben- Butylparaben- Imidazolidinyl Urea- Sucrose- BHT.                                                                                                                                                                                                                                                                                                                                                                                                                                                                                                                                                                                                                                                                                                                                                                                                                                                                                                                                                                                                                                                                                                                                                                                                                                                                                                                                                                                                                                                                                                                                                                                                                                                                                                                            0.000109\n",
              "Aqua (Water)- Dimethicone- Isohexadecane- Polymethylsilsesquioxane- Butylene Glycol- Polysilicone-11- Cetyl Peg/Ppg-10/1 Dimethicone- C12-15 Alkyl Benzoate- Isododecane- Ci 77163 (Bismuth Oxychloride)- Trimethylsiloxyphenyl Dimethicone- Talc- Phenoxyethanol- Sodium Chloride- Ci 77891 (Titanium Dioxide)- Magnesium Sulfate- Sodium Dehydroacetate- Sodium Benzoate- Quaternium-18 Hectorite- Sodium Citrate- Benzoic Acid- Ci 77492 (Iron Oxides)- Dehydroacetic Acid- Hydrogen Dimethicone- Laureth-12- Propylene Carbonate- Ci 77491 (Iron Oxides)- Glycerin- Ethylhexylglycerin- Aluminum Hydroxide- Ci 77499 (Iron Oxides)- Citrus Japonica Fruit Extract- Citric Acid.                                                                                                                                                                                                                                                                                                                                                                                                                                                                                                                                                                                                                                                                                                                                                                                                                                                                                                                                                                                                                                                                                                                                                                                                                                                                                                                                                                                                                    0.000109\n",
              "Name: ingredients, Length: 6962, dtype: float64"
            ]
          },
          "metadata": {},
          "execution_count": 30
        },
        {
          "output_type": "stream",
          "name": "stdout",
          "text": [
            "\n",
            "\n"
          ]
        }
      ]
    },
    {
      "cell_type": "code",
      "source": [
        "# Explore numerical variables\n",
        "sephora_wo_id = sephora.drop('id', axis=1)\n",
        "num_sephora = sephora_wo_id.select_dtypes(include='number')\n",
        "num_sephora.describe()"
      ],
      "metadata": {
        "colab": {
          "base_uri": "https://localhost:8080/",
          "height": 300
        },
        "id": "DxcNchy4ucgV",
        "outputId": "dea03f13-9081-42ac-b93f-f2d2b23ce7c0"
      },
      "execution_count": null,
      "outputs": [
        {
          "output_type": "execute_result",
          "data": {
            "text/plain": [
              "            rating  number_of_reviews          love        price  value_price  \\\n",
              "count  9168.000000        9168.000000  9.168000e+03  9168.000000   9168.00000   \n",
              "mean      3.990020         282.139180  1.627859e+04    50.063237     51.82359   \n",
              "std       1.007707         890.642028  4.260651e+04    47.164989     49.45902   \n",
              "min       0.000000           0.000000  0.000000e+00     2.000000      2.00000   \n",
              "25%       4.000000          10.000000  1.600000e+03    24.000000     25.00000   \n",
              "50%       4.000000          46.000000  4.800000e+03    35.000000     35.00000   \n",
              "75%       4.500000         210.000000  1.380000e+04    59.000000     60.00000   \n",
              "max       5.000000       19000.000000  1.300000e+06   549.000000    549.00000   \n",
              "\n",
              "       online_only    exclusive  limited_edition  limited_time_offer  \\\n",
              "count  9168.000000  9168.000000      9168.000000         9168.000000   \n",
              "mean      0.234839     0.264725         0.091841            0.000327   \n",
              "std       0.423921     0.441211         0.288817            0.018087   \n",
              "min       0.000000     0.000000         0.000000            0.000000   \n",
              "25%       0.000000     0.000000         0.000000            0.000000   \n",
              "50%       0.000000     0.000000         0.000000            0.000000   \n",
              "75%       0.000000     1.000000         0.000000            0.000000   \n",
              "max       1.000000     1.000000         1.000000            1.000000   \n",
              "\n",
              "            ounces  price_per_ounce   brand_rank  \n",
              "count  5717.000000      5717.000000  9168.000000  \n",
              "mean      2.721043       166.403527    87.041121  \n",
              "std       9.240177       836.089424    78.864910  \n",
              "min       0.000800         0.232000     1.000000  \n",
              "25%       0.340000        11.176471    22.000000  \n",
              "50%       1.600000        42.424242    63.000000  \n",
              "75%       3.400000       102.941176   135.000000  \n",
              "max     625.000000     28000.000000   324.000000  "
            ],
            "text/html": [
              "\n",
              "  <div id=\"df-c0ed56eb-657f-4dd2-84ab-65621bdb5010\">\n",
              "    <div class=\"colab-df-container\">\n",
              "      <div>\n",
              "<style scoped>\n",
              "    .dataframe tbody tr th:only-of-type {\n",
              "        vertical-align: middle;\n",
              "    }\n",
              "\n",
              "    .dataframe tbody tr th {\n",
              "        vertical-align: top;\n",
              "    }\n",
              "\n",
              "    .dataframe thead th {\n",
              "        text-align: right;\n",
              "    }\n",
              "</style>\n",
              "<table border=\"1\" class=\"dataframe\">\n",
              "  <thead>\n",
              "    <tr style=\"text-align: right;\">\n",
              "      <th></th>\n",
              "      <th>rating</th>\n",
              "      <th>number_of_reviews</th>\n",
              "      <th>love</th>\n",
              "      <th>price</th>\n",
              "      <th>value_price</th>\n",
              "      <th>online_only</th>\n",
              "      <th>exclusive</th>\n",
              "      <th>limited_edition</th>\n",
              "      <th>limited_time_offer</th>\n",
              "      <th>ounces</th>\n",
              "      <th>price_per_ounce</th>\n",
              "      <th>brand_rank</th>\n",
              "    </tr>\n",
              "  </thead>\n",
              "  <tbody>\n",
              "    <tr>\n",
              "      <th>count</th>\n",
              "      <td>9168.000000</td>\n",
              "      <td>9168.000000</td>\n",
              "      <td>9.168000e+03</td>\n",
              "      <td>9168.000000</td>\n",
              "      <td>9168.00000</td>\n",
              "      <td>9168.000000</td>\n",
              "      <td>9168.000000</td>\n",
              "      <td>9168.000000</td>\n",
              "      <td>9168.000000</td>\n",
              "      <td>5717.000000</td>\n",
              "      <td>5717.000000</td>\n",
              "      <td>9168.000000</td>\n",
              "    </tr>\n",
              "    <tr>\n",
              "      <th>mean</th>\n",
              "      <td>3.990020</td>\n",
              "      <td>282.139180</td>\n",
              "      <td>1.627859e+04</td>\n",
              "      <td>50.063237</td>\n",
              "      <td>51.82359</td>\n",
              "      <td>0.234839</td>\n",
              "      <td>0.264725</td>\n",
              "      <td>0.091841</td>\n",
              "      <td>0.000327</td>\n",
              "      <td>2.721043</td>\n",
              "      <td>166.403527</td>\n",
              "      <td>87.041121</td>\n",
              "    </tr>\n",
              "    <tr>\n",
              "      <th>std</th>\n",
              "      <td>1.007707</td>\n",
              "      <td>890.642028</td>\n",
              "      <td>4.260651e+04</td>\n",
              "      <td>47.164989</td>\n",
              "      <td>49.45902</td>\n",
              "      <td>0.423921</td>\n",
              "      <td>0.441211</td>\n",
              "      <td>0.288817</td>\n",
              "      <td>0.018087</td>\n",
              "      <td>9.240177</td>\n",
              "      <td>836.089424</td>\n",
              "      <td>78.864910</td>\n",
              "    </tr>\n",
              "    <tr>\n",
              "      <th>min</th>\n",
              "      <td>0.000000</td>\n",
              "      <td>0.000000</td>\n",
              "      <td>0.000000e+00</td>\n",
              "      <td>2.000000</td>\n",
              "      <td>2.00000</td>\n",
              "      <td>0.000000</td>\n",
              "      <td>0.000000</td>\n",
              "      <td>0.000000</td>\n",
              "      <td>0.000000</td>\n",
              "      <td>0.000800</td>\n",
              "      <td>0.232000</td>\n",
              "      <td>1.000000</td>\n",
              "    </tr>\n",
              "    <tr>\n",
              "      <th>25%</th>\n",
              "      <td>4.000000</td>\n",
              "      <td>10.000000</td>\n",
              "      <td>1.600000e+03</td>\n",
              "      <td>24.000000</td>\n",
              "      <td>25.00000</td>\n",
              "      <td>0.000000</td>\n",
              "      <td>0.000000</td>\n",
              "      <td>0.000000</td>\n",
              "      <td>0.000000</td>\n",
              "      <td>0.340000</td>\n",
              "      <td>11.176471</td>\n",
              "      <td>22.000000</td>\n",
              "    </tr>\n",
              "    <tr>\n",
              "      <th>50%</th>\n",
              "      <td>4.000000</td>\n",
              "      <td>46.000000</td>\n",
              "      <td>4.800000e+03</td>\n",
              "      <td>35.000000</td>\n",
              "      <td>35.00000</td>\n",
              "      <td>0.000000</td>\n",
              "      <td>0.000000</td>\n",
              "      <td>0.000000</td>\n",
              "      <td>0.000000</td>\n",
              "      <td>1.600000</td>\n",
              "      <td>42.424242</td>\n",
              "      <td>63.000000</td>\n",
              "    </tr>\n",
              "    <tr>\n",
              "      <th>75%</th>\n",
              "      <td>4.500000</td>\n",
              "      <td>210.000000</td>\n",
              "      <td>1.380000e+04</td>\n",
              "      <td>59.000000</td>\n",
              "      <td>60.00000</td>\n",
              "      <td>0.000000</td>\n",
              "      <td>1.000000</td>\n",
              "      <td>0.000000</td>\n",
              "      <td>0.000000</td>\n",
              "      <td>3.400000</td>\n",
              "      <td>102.941176</td>\n",
              "      <td>135.000000</td>\n",
              "    </tr>\n",
              "    <tr>\n",
              "      <th>max</th>\n",
              "      <td>5.000000</td>\n",
              "      <td>19000.000000</td>\n",
              "      <td>1.300000e+06</td>\n",
              "      <td>549.000000</td>\n",
              "      <td>549.00000</td>\n",
              "      <td>1.000000</td>\n",
              "      <td>1.000000</td>\n",
              "      <td>1.000000</td>\n",
              "      <td>1.000000</td>\n",
              "      <td>625.000000</td>\n",
              "      <td>28000.000000</td>\n",
              "      <td>324.000000</td>\n",
              "    </tr>\n",
              "  </tbody>\n",
              "</table>\n",
              "</div>\n",
              "      <button class=\"colab-df-convert\" onclick=\"convertToInteractive('df-c0ed56eb-657f-4dd2-84ab-65621bdb5010')\"\n",
              "              title=\"Convert this dataframe to an interactive table.\"\n",
              "              style=\"display:none;\">\n",
              "        \n",
              "  <svg xmlns=\"http://www.w3.org/2000/svg\" height=\"24px\"viewBox=\"0 0 24 24\"\n",
              "       width=\"24px\">\n",
              "    <path d=\"M0 0h24v24H0V0z\" fill=\"none\"/>\n",
              "    <path d=\"M18.56 5.44l.94 2.06.94-2.06 2.06-.94-2.06-.94-.94-2.06-.94 2.06-2.06.94zm-11 1L8.5 8.5l.94-2.06 2.06-.94-2.06-.94L8.5 2.5l-.94 2.06-2.06.94zm10 10l.94 2.06.94-2.06 2.06-.94-2.06-.94-.94-2.06-.94 2.06-2.06.94z\"/><path d=\"M17.41 7.96l-1.37-1.37c-.4-.4-.92-.59-1.43-.59-.52 0-1.04.2-1.43.59L10.3 9.45l-7.72 7.72c-.78.78-.78 2.05 0 2.83L4 21.41c.39.39.9.59 1.41.59.51 0 1.02-.2 1.41-.59l7.78-7.78 2.81-2.81c.8-.78.8-2.07 0-2.86zM5.41 20L4 18.59l7.72-7.72 1.47 1.35L5.41 20z\"/>\n",
              "  </svg>\n",
              "      </button>\n",
              "      \n",
              "  <style>\n",
              "    .colab-df-container {\n",
              "      display:flex;\n",
              "      flex-wrap:wrap;\n",
              "      gap: 12px;\n",
              "    }\n",
              "\n",
              "    .colab-df-convert {\n",
              "      background-color: #E8F0FE;\n",
              "      border: none;\n",
              "      border-radius: 50%;\n",
              "      cursor: pointer;\n",
              "      display: none;\n",
              "      fill: #1967D2;\n",
              "      height: 32px;\n",
              "      padding: 0 0 0 0;\n",
              "      width: 32px;\n",
              "    }\n",
              "\n",
              "    .colab-df-convert:hover {\n",
              "      background-color: #E2EBFA;\n",
              "      box-shadow: 0px 1px 2px rgba(60, 64, 67, 0.3), 0px 1px 3px 1px rgba(60, 64, 67, 0.15);\n",
              "      fill: #174EA6;\n",
              "    }\n",
              "\n",
              "    [theme=dark] .colab-df-convert {\n",
              "      background-color: #3B4455;\n",
              "      fill: #D2E3FC;\n",
              "    }\n",
              "\n",
              "    [theme=dark] .colab-df-convert:hover {\n",
              "      background-color: #434B5C;\n",
              "      box-shadow: 0px 1px 3px 1px rgba(0, 0, 0, 0.15);\n",
              "      filter: drop-shadow(0px 1px 2px rgba(0, 0, 0, 0.3));\n",
              "      fill: #FFFFFF;\n",
              "    }\n",
              "  </style>\n",
              "\n",
              "      <script>\n",
              "        const buttonEl =\n",
              "          document.querySelector('#df-c0ed56eb-657f-4dd2-84ab-65621bdb5010 button.colab-df-convert');\n",
              "        buttonEl.style.display =\n",
              "          google.colab.kernel.accessAllowed ? 'block' : 'none';\n",
              "\n",
              "        async function convertToInteractive(key) {\n",
              "          const element = document.querySelector('#df-c0ed56eb-657f-4dd2-84ab-65621bdb5010');\n",
              "          const dataTable =\n",
              "            await google.colab.kernel.invokeFunction('convertToInteractive',\n",
              "                                                     [key], {});\n",
              "          if (!dataTable) return;\n",
              "\n",
              "          const docLinkHtml = 'Like what you see? Visit the ' +\n",
              "            '<a target=\"_blank\" href=https://colab.research.google.com/notebooks/data_table.ipynb>data table notebook</a>'\n",
              "            + ' to learn more about interactive tables.';\n",
              "          element.innerHTML = '';\n",
              "          dataTable['output_type'] = 'display_data';\n",
              "          await google.colab.output.renderOutput(dataTable, element);\n",
              "          const docLink = document.createElement('div');\n",
              "          docLink.innerHTML = docLinkHtml;\n",
              "          element.appendChild(docLink);\n",
              "        }\n",
              "      </script>\n",
              "    </div>\n",
              "  </div>\n",
              "  "
            ]
          },
          "metadata": {},
          "execution_count": 52
        }
      ]
    },
    {
      "cell_type": "code",
      "source": [
        "# Visualize potential relationships between loves and rating\n",
        "plt.scatter(x=sephora.love, y=sephora.rating)\n",
        "plt.xlabel(\"Number of Loves\")\n",
        "plt.ylabel(\"Rating\")\n",
        "plt.show()"
      ],
      "metadata": {
        "colab": {
          "base_uri": "https://localhost:8080/",
          "height": 467
        },
        "id": "ZTLunFDTurU5",
        "outputId": "1722abb5-d8f3-4588-d676-3893f30bdc77"
      },
      "execution_count": null,
      "outputs": [
        {
          "output_type": "execute_result",
          "data": {
            "text/plain": [
              "<matplotlib.collections.PathCollection at 0x7f10cb91a920>"
            ]
          },
          "metadata": {},
          "execution_count": 57
        },
        {
          "output_type": "execute_result",
          "data": {
            "text/plain": [
              "Text(0.5, 0, 'Number of Loves')"
            ]
          },
          "metadata": {},
          "execution_count": 57
        },
        {
          "output_type": "execute_result",
          "data": {
            "text/plain": [
              "Text(0, 0.5, 'Rating')"
            ]
          },
          "metadata": {},
          "execution_count": 57
        },
        {
          "output_type": "display_data",
          "data": {
            "text/plain": [
              "<Figure size 640x480 with 1 Axes>"
            ],
            "image/png": "[encoded data removed]"
          },
          "metadata": {}
        }
      ]
    },
    {
      "cell_type": "code",
      "source": [
        "# Visualize potential relationships between loves and price\n",
        "plt.scatter(x=sephora.price, y=sephora.love)\n",
        "plt.xlabel(\"Number of Loves\")\n",
        "plt.ylabel(\"Price\")\n",
        "plt.show()"
      ],
      "metadata": {
        "colab": {
          "base_uri": "https://localhost:8080/",
          "height": 483
        },
        "id": "E-OmLdQtxEr7",
        "outputId": "7157df42-6d19-4684-846e-9c8917f5147e"
      },
      "execution_count": null,
      "outputs": [
        {
          "output_type": "execute_result",
          "data": {
            "text/plain": [
              "<matplotlib.collections.PathCollection at 0x7fbbc661dc60>"
            ]
          },
          "metadata": {},
          "execution_count": 39
        },
        {
          "output_type": "execute_result",
          "data": {
            "text/plain": [
              "Text(0.5, 0, 'Number of Loves')"
            ]
          },
          "metadata": {},
          "execution_count": 39
        },
        {
          "output_type": "execute_result",
          "data": {
            "text/plain": [
              "Text(0, 0.5, 'Price')"
            ]
          },
          "metadata": {},
          "execution_count": 39
        },
        {
          "output_type": "display_data",
          "data": {
            "text/plain": [
              "<Figure size 640x480 with 1 Axes>"
            ],
            "image/png": "[encoded data removed]"
          },
          "metadata": {}
        }
      ]
    },
    {
      "cell_type": "markdown",
      "source": [
        "#Data Preprocessing and Feature Engineering"
      ],
      "metadata": {
        "id": "kOx4aARNAS7V"
      }
    },
    {
      "cell_type": "markdown",
      "source": [
        "Create new feature \"love_class\" to categorize number of loves:\n",
        "*   High: products with # loves in top 20%\n",
        "*   Medium: rest of products\n"
      ],
      "metadata": {
        "id": "0-sTmlyGuXjo"
      }
    },
    {
      "cell_type": "code",
      "source": [
        "# Calculate the percentiles of the \"love\" values\n",
        "threshold_med = np.percentile(sephora['love'], 80)\n",
        "threshold_high = np.percentile(sephora['love'], 100)\n",
        "\n",
        "# Function to map \"love\" values to corresponding classes\n",
        "def get_love_class(love):\n",
        "    if love < threshold_med:\n",
        "        return 'Medium'\n",
        "    else:\n",
        "        return 'High'\n",
        "\n",
        "# Add a new column \"love_class\" based on the \"love\" values\n",
        "sephora['love_class'] = sephora['love'].apply(get_love_class)"
      ],
      "metadata": {
        "id": "uAVugv1vudwn"
      },
      "execution_count": null,
      "outputs": []
    },
    {
      "cell_type": "markdown",
      "source": [
        "Create new price_per_ounce feature"
      ],
      "metadata": {
        "id": "Vb6H6g377kIv"
      }
    },
    {
      "cell_type": "code",
      "source": [
        "# Extract number of ounces from the \"size\" feature\n",
        "sephora['ounces'] = sephora['size'].str.extract(r'(\\d+(?:\\.\\d+)?)\\s*(?:fl\\s*)?oz')\n",
        "# Convert the 'ounces' column to numeric type\n",
        "sephora['ounces'] = pd.to_numeric(sephora['ounces'])\n",
        "# Create new column price_per_ounce\n",
        "sephora['price_per_ounce'] = sephora['price'] / sephora['ounces']"
      ],
      "metadata": {
        "id": "dpLLHurkwmz-"
      },
      "execution_count": null,
      "outputs": []
    },
    {
      "cell_type": "markdown",
      "source": [
        "Create feature brank_rank based on number of loves in the training data"
      ],
      "metadata": {
        "id": "FEMwZ5elUyf0"
      }
    },
    {
      "cell_type": "code",
      "source": [
        "# Split the data into training and testing sets\n",
        "train_df, test_df = train_test_split(sephora, test_size=0.3, random_state=1)\n",
        "# Group by brands and sum the 'loves' for each brand\n",
        "brand_love_counts = train_df.groupby('brand')['love'].sum().reset_index()\n",
        "# Sort the brands based on 'loves' in descending order\n",
        "brand_love_counts = brand_love_counts.sort_values('love', ascending=False)\n",
        "# Assign ranks to the brands\n",
        "brand_love_counts['brand_rank'] = pd.RangeIndex(start=1, stop=len(brand_love_counts) + 1)\n",
        "# Merge the brand ranks back to the original DataFrame\n",
        "sephora = pd.merge(sephora, brand_love_counts[['brand', 'brand_rank']], on='brand', how='left')"
      ],
      "metadata": {
        "id": "eqLlwmhcUw78"
      },
      "execution_count": null,
      "outputs": []
    },
    {
      "cell_type": "code",
      "source": [
        "# Visualize potential relationships \n",
        "sephora_subset = sephora[['love', 'brand_rank', 'rating', 'number_of_reviews']]\n",
        "sns.pairplot(sephora_subset)\n"
      ],
      "metadata": {
        "colab": {
          "base_uri": "https://localhost:8080/",
          "height": 1000
        },
        "id": "1yXyJQTrCLs5",
        "outputId": "ed409fa0-6a3c-4479-a36e-364b5b0e08e8"
      },
      "execution_count": null,
      "outputs": [
        {
          "output_type": "execute_result",
          "data": {
            "text/plain": [
              "<seaborn.axisgrid.PairGrid at 0x7f6df2a07fa0>"
            ]
          },
          "metadata": {},
          "execution_count": 11
        },
        {
          "output_type": "display_data",
          "data": {
            "text/plain": [
              "<Figure size 1000x1000 with 20 Axes>"
            ],
            "image/png": "[encoded data removed]"
          },
          "metadata": {}
        }
      ]
    },
    {
      "cell_type": "markdown",
      "source": [
        "#Hypothesis 1: 'Love_class' can be predicted with brand_rank and category "
      ],
      "metadata": {
        "id": "3xitTDo7D7r-"
      }
    },
    {
      "cell_type": "markdown",
      "source": [
        "Logistic Regression model to predict love_class based on category and brand_rank"
      ],
      "metadata": {
        "id": "H3dUXZL27Lgl"
      }
    },
    {
      "cell_type": "code",
      "source": [
        "# Drop rows where we don't have a brand_rank to use as feature\n",
        "sephora_br = sephora.dropna(subset=['brand_rank'])\n",
        "\n",
        "X = sephora_br[['brand_rank']]  # Features (brand_rank)\n",
        "y = sephora_br['love_class']  # Target variable (love_class)\n",
        "\n",
        "# Convert 'category' column into one-hot encoded representation\n",
        "category_dummies = pd.get_dummies(sephora_br['category'])\n",
        "\n",
        "# Concatenate the one-hot encoded 'category' columns with the other features\n",
        "X = pd.concat([X, category_dummies], axis=1)\n",
        "\n",
        "# Split the data into training and testing sets\n",
        "X_train, X_test, y_train, y_test = train_test_split(X, y, test_size=0.3, random_state=1)\n",
        "\n",
        "# Create a logistic regression model\n",
        "logreg = LogisticRegression()\n",
        "\n",
        "# Train the model on the training data\n",
        "logreg.fit(X_train, y_train)"
      ],
      "metadata": {
        "colab": {
          "base_uri": "https://localhost:8080/",
          "height": 241
        },
        "id": "vK3YEjy77R2n",
        "outputId": "3ab81664-6ecd-472a-c9c7-a59c7f9f0efd"
      },
      "execution_count": null,
      "outputs": [
        {
          "output_type": "stream",
          "name": "stderr",
          "text": [
            "/usr/local/lib/python3.10/dist-packages/sklearn/linear_model/_logistic.py:458: ConvergenceWarning: lbfgs failed to converge (status=1):\n",
            "STOP: TOTAL NO. of ITERATIONS REACHED LIMIT.\n",
            "\n",
            "Increase the number of iterations (max_iter) or scale the data as shown in:\n",
            "    https://scikit-learn.org/stable/modules/preprocessing.html\n",
            "Please also refer to the documentation for alternative solver options:\n",
            "    https://scikit-learn.org/stable/modules/linear_model.html#logistic-regression\n",
            "  n_iter_i = _check_optimize_result(\n"
          ]
        },
        {
          "output_type": "execute_result",
          "data": {
            "text/plain": [
              "LogisticRegression()"
            ],
            "text/html": [
              "<style>#sk-container-id-5 {color: black;background-color: white;}#sk-container-id-5 pre{padding: 0;}#sk-container-id-5 div.sk-toggleable {background-color: white;}#sk-container-id-5 label.sk-toggleable__label {cursor: pointer;display: block;width: 100%;margin-bottom: 0;padding: 0.3em;box-sizing: border-box;text-align: center;}#sk-container-id-5 label.sk-toggleable__label-arrow:before {content: \"▸\";float: left;margin-right: 0.25em;color: #696969;}#sk-container-id-5 label.sk-toggleable__label-arrow:hover:before {color: black;}#sk-container-id-5 div.sk-estimator:hover label.sk-toggleable__label-arrow:before {color: black;}#sk-container-id-5 div.sk-toggleable__content {max-height: 0;max-width: 0;overflow: hidden;text-align: left;background-color: #f0f8ff;}#sk-container-id-5 div.sk-toggleable__content pre {margin: 0.2em;color: black;border-radius: 0.25em;background-color: #f0f8ff;}#sk-container-id-5 input.sk-toggleable__control:checked~div.sk-toggleable__content {max-height: 200px;max-width: 100%;overflow: auto;}#sk-container-id-5 input.sk-toggleable__control:checked~label.sk-toggleable__label-arrow:before {content: \"▾\";}#sk-container-id-5 div.sk-estimator input.sk-toggleable__control:checked~label.sk-toggleable__label {background-color: #d4ebff;}#sk-container-id-5 div.sk-label input.sk-toggleable__control:checked~label.sk-toggleable__label {background-color: #d4ebff;}#sk-container-id-5 input.sk-hidden--visually {border: 0;clip: rect(1px 1px 1px 1px);clip: rect(1px, 1px, 1px, 1px);height: 1px;margin: -1px;overflow: hidden;padding: 0;position: absolute;width: 1px;}#sk-container-id-5 div.sk-estimator {font-family: monospace;background-color: #f0f8ff;border: 1px dotted black;border-radius: 0.25em;box-sizing: border-box;margin-bottom: 0.5em;}#sk-container-id-5 div.sk-estimator:hover {background-color: #d4ebff;}#sk-container-id-5 div.sk-parallel-item::after {content: \"\";width: 100%;border-bottom: 1px solid gray;flex-grow: 1;}#sk-container-id-5 div.sk-label:hover label.sk-toggleable__label {background-color: #d4ebff;}#sk-container-id-5 div.sk-serial::before {content: \"\";position: absolute;border-left: 1px solid gray;box-sizing: border-box;top: 0;bottom: 0;left: 50%;z-index: 0;}#sk-container-id-5 div.sk-serial {display: flex;flex-direction: column;align-items: center;background-color: white;padding-right: 0.2em;padding-left: 0.2em;position: relative;}#sk-container-id-5 div.sk-item {position: relative;z-index: 1;}#sk-container-id-5 div.sk-parallel {display: flex;align-items: stretch;justify-content: center;background-color: white;position: relative;}#sk-container-id-5 div.sk-item::before, #sk-container-id-5 div.sk-parallel-item::before {content: \"\";position: absolute;border-left: 1px solid gray;box-sizing: border-box;top: 0;bottom: 0;left: 50%;z-index: -1;}#sk-container-id-5 div.sk-parallel-item {display: flex;flex-direction: column;z-index: 1;position: relative;background-color: white;}#sk-container-id-5 div.sk-parallel-item:first-child::after {align-self: flex-end;width: 50%;}#sk-container-id-5 div.sk-parallel-item:last-child::after {align-self: flex-start;width: 50%;}#sk-container-id-5 div.sk-parallel-item:only-child::after {width: 0;}#sk-container-id-5 div.sk-dashed-wrapped {border: 1px dashed gray;margin: 0 0.4em 0.5em 0.4em;box-sizing: border-box;padding-bottom: 0.4em;background-color: white;}#sk-container-id-5 div.sk-label label {font-family: monospace;font-weight: bold;display: inline-block;line-height: 1.2em;}#sk-container-id-5 div.sk-label-container {text-align: center;}#sk-container-id-5 div.sk-container {/* jupyter's `normalize.less` sets `[hidden] { display: none; }` but bootstrap.min.css set `[hidden] { display: none !important; }` so we also need the `!important` here to be able to override the default hidden behavior on the sphinx rendered scikit-learn.org. See: https://github.com/scikit-learn/scikit-learn/issues/21755 */display: inline-block !important;position: relative;}#sk-container-id-5 div.sk-text-repr-fallback {display: none;}</style><div id=\"sk-container-id-5\" class=\"sk-top-container\"><div class=\"sk-text-repr-fallback\"><pre>LogisticRegression()</pre><b>In a Jupyter environment, please rerun this cell to show the HTML representation or trust the notebook. <br />On GitHub, the HTML representation is unable to render, please try loading this page with nbviewer.org.</b></div><div class=\"sk-container\" hidden><div class=\"sk-item\"><div class=\"sk-estimator sk-toggleable\"><input class=\"sk-toggleable__control sk-hidden--visually\" id=\"sk-estimator-id-5\" type=\"checkbox\" checked><label for=\"sk-estimator-id-5\" class=\"sk-toggleable__label sk-toggleable__label-arrow\">LogisticRegression</label><div class=\"sk-toggleable__content\"><pre>LogisticRegression()</pre></div></div></div></div></div>"
            ]
          },
          "metadata": {},
          "execution_count": 17
        }
      ]
    },
    {
      "cell_type": "code",
      "source": [
        "# Define function eval_model to evaluate all classification models\n",
        "def eval_model(model, X_train, X_test, y_train, y_test):\n",
        "  # Predict the target variable for the training and testing data\n",
        "  y_train_pred = model.predict(X_train)\n",
        "  y_test_pred = model.predict(X_test)\n",
        "  \n",
        "  # Calculate the evaluation metrics \n",
        "  metrics_train = {\n",
        "      'Accuracy': accuracy_score(y_train, y_train_pred),\n",
        "      'Precision': precision_score(y_train, y_train_pred, pos_label='High'),\n",
        "      'Recall': recall_score(y_train, y_train_pred, pos_label='High'),\n",
        "      'ROC AUC': roc_auc_score(y_train, model.predict_proba(X_train)[:, 1])}\n",
        "\n",
        "  metrics_test = {\n",
        "      'Accuracy': accuracy_score(y_test, y_test_pred),\n",
        "      'Precision': precision_score(y_test, y_test_pred, pos_label='High'),\n",
        "      'Recall': recall_score(y_test, y_test_pred, pos_label='High'),\n",
        "      'ROC AUC': roc_auc_score(y_test, model.predict_proba(X_test)[:, 1])}   \n",
        "\n",
        "  # Create a DataFrame to display the metrics\n",
        "  metrics_df = pd.DataFrame({'Train': metrics_train, 'Test': metrics_test})\n",
        "  print(metrics_df)"
      ],
      "metadata": {
        "id": "WlSPiqxbaDVE"
      },
      "execution_count": null,
      "outputs": []
    },
    {
      "cell_type": "code",
      "source": [
        "eval_model(logreg, X_train, X_test, y_train, y_test)"
      ],
      "metadata": {
        "colab": {
          "base_uri": "https://localhost:8080/"
        },
        "id": "mkBTj13xcseo",
        "outputId": "d21bd1a3-53d4-4a79-d51c-cd938c950594"
      },
      "execution_count": null,
      "outputs": [
        {
          "output_type": "stream",
          "name": "stdout",
          "text": [
            "              Train      Test\n",
            "Accuracy   0.820081  0.807203\n",
            "Precision  0.607321  0.546875\n",
            "Recall     0.284489  0.252708\n",
            "ROC AUC    0.825871  0.799641\n"
          ]
        }
      ]
    },
    {
      "cell_type": "markdown",
      "source": [
        "k-NN model to predict love_class based on category and brand_rank "
      ],
      "metadata": {
        "id": "jEzPlxfPq2_G"
      }
    },
    {
      "cell_type": "code",
      "source": [
        "# Drop rows where we don't have a brand_rank to use as feature\n",
        "sephora_br = sephora.dropna(subset=['brand_rank'])\n",
        "\n",
        "X = sephora_br[['brand_rank']]  # Features (brand_rank)\n",
        "y = sephora_br['love_class']  # Target variable (love_class)\n",
        "\n",
        "# Convert 'category' column into one-hot encoded representation\n",
        "category_dummies = pd.get_dummies(sephora_br['category'])\n",
        "\n",
        "# Split the data into training and testing sets\n",
        "X_train, X_test, y_train, y_test = train_test_split(X, y, test_size=0.3, random_state=1)\n",
        "\n",
        "# Create and fit the k-NN model\n",
        "k = 5  # Number of neighbors\n",
        "knn = KNeighborsClassifier(n_neighbors=k)\n",
        "knn.fit(X_train, y_train)"
      ],
      "metadata": {
        "colab": {
          "base_uri": "https://localhost:8080/",
          "height": 74
        },
        "id": "ePXWjf7FrgbU",
        "outputId": "baf74350-3de7-4b51-f470-d37f9e4ebc87"
      },
      "execution_count": null,
      "outputs": [
        {
          "output_type": "execute_result",
          "data": {
            "text/plain": [
              "KNeighborsClassifier()"
            ],
            "text/html": [
              "<style>#sk-container-id-6 {color: black;background-color: white;}#sk-container-id-6 pre{padding: 0;}#sk-container-id-6 div.sk-toggleable {background-color: white;}#sk-container-id-6 label.sk-toggleable__label {cursor: pointer;display: block;width: 100%;margin-bottom: 0;padding: 0.3em;box-sizing: border-box;text-align: center;}#sk-container-id-6 label.sk-toggleable__label-arrow:before {content: \"▸\";float: left;margin-right: 0.25em;color: #696969;}#sk-container-id-6 label.sk-toggleable__label-arrow:hover:before {color: black;}#sk-container-id-6 div.sk-estimator:hover label.sk-toggleable__label-arrow:before {color: black;}#sk-container-id-6 div.sk-toggleable__content {max-height: 0;max-width: 0;overflow: hidden;text-align: left;background-color: #f0f8ff;}#sk-container-id-6 div.sk-toggleable__content pre {margin: 0.2em;color: black;border-radius: 0.25em;background-color: #f0f8ff;}#sk-container-id-6 input.sk-toggleable__control:checked~div.sk-toggleable__content {max-height: 200px;max-width: 100%;overflow: auto;}#sk-container-id-6 input.sk-toggleable__control:checked~label.sk-toggleable__label-arrow:before {content: \"▾\";}#sk-container-id-6 div.sk-estimator input.sk-toggleable__control:checked~label.sk-toggleable__label {background-color: #d4ebff;}#sk-container-id-6 div.sk-label input.sk-toggleable__control:checked~label.sk-toggleable__label {background-color: #d4ebff;}#sk-container-id-6 input.sk-hidden--visually {border: 0;clip: rect(1px 1px 1px 1px);clip: rect(1px, 1px, 1px, 1px);height: 1px;margin: -1px;overflow: hidden;padding: 0;position: absolute;width: 1px;}#sk-container-id-6 div.sk-estimator {font-family: monospace;background-color: #f0f8ff;border: 1px dotted black;border-radius: 0.25em;box-sizing: border-box;margin-bottom: 0.5em;}#sk-container-id-6 div.sk-estimator:hover {background-color: #d4ebff;}#sk-container-id-6 div.sk-parallel-item::after {content: \"\";width: 100%;border-bottom: 1px solid gray;flex-grow: 1;}#sk-container-id-6 div.sk-label:hover label.sk-toggleable__label {background-color: #d4ebff;}#sk-container-id-6 div.sk-serial::before {content: \"\";position: absolute;border-left: 1px solid gray;box-sizing: border-box;top: 0;bottom: 0;left: 50%;z-index: 0;}#sk-container-id-6 div.sk-serial {display: flex;flex-direction: column;align-items: center;background-color: white;padding-right: 0.2em;padding-left: 0.2em;position: relative;}#sk-container-id-6 div.sk-item {position: relative;z-index: 1;}#sk-container-id-6 div.sk-parallel {display: flex;align-items: stretch;justify-content: center;background-color: white;position: relative;}#sk-container-id-6 div.sk-item::before, #sk-container-id-6 div.sk-parallel-item::before {content: \"\";position: absolute;border-left: 1px solid gray;box-sizing: border-box;top: 0;bottom: 0;left: 50%;z-index: -1;}#sk-container-id-6 div.sk-parallel-item {display: flex;flex-direction: column;z-index: 1;position: relative;background-color: white;}#sk-container-id-6 div.sk-parallel-item:first-child::after {align-self: flex-end;width: 50%;}#sk-container-id-6 div.sk-parallel-item:last-child::after {align-self: flex-start;width: 50%;}#sk-container-id-6 div.sk-parallel-item:only-child::after {width: 0;}#sk-container-id-6 div.sk-dashed-wrapped {border: 1px dashed gray;margin: 0 0.4em 0.5em 0.4em;box-sizing: border-box;padding-bottom: 0.4em;background-color: white;}#sk-container-id-6 div.sk-label label {font-family: monospace;font-weight: bold;display: inline-block;line-height: 1.2em;}#sk-container-id-6 div.sk-label-container {text-align: center;}#sk-container-id-6 div.sk-container {/* jupyter's `normalize.less` sets `[hidden] { display: none; }` but bootstrap.min.css set `[hidden] { display: none !important; }` so we also need the `!important` here to be able to override the default hidden behavior on the sphinx rendered scikit-learn.org. See: https://github.com/scikit-learn/scikit-learn/issues/21755 */display: inline-block !important;position: relative;}#sk-container-id-6 div.sk-text-repr-fallback {display: none;}</style><div id=\"sk-container-id-6\" class=\"sk-top-container\"><div class=\"sk-text-repr-fallback\"><pre>KNeighborsClassifier()</pre><b>In a Jupyter environment, please rerun this cell to show the HTML representation or trust the notebook. <br />On GitHub, the HTML representation is unable to render, please try loading this page with nbviewer.org.</b></div><div class=\"sk-container\" hidden><div class=\"sk-item\"><div class=\"sk-estimator sk-toggleable\"><input class=\"sk-toggleable__control sk-hidden--visually\" id=\"sk-estimator-id-6\" type=\"checkbox\" checked><label for=\"sk-estimator-id-6\" class=\"sk-toggleable__label sk-toggleable__label-arrow\">KNeighborsClassifier</label><div class=\"sk-toggleable__content\"><pre>KNeighborsClassifier()</pre></div></div></div></div></div>"
            ]
          },
          "metadata": {},
          "execution_count": 34
        }
      ]
    },
    {
      "cell_type": "code",
      "source": [
        "eval_model(knn, X_train, X_test, y_train, y_test)"
      ],
      "metadata": {
        "colab": {
          "base_uri": "https://localhost:8080/"
        },
        "id": "pXErl27sej_s",
        "outputId": "a5d3c7e7-9a96-475b-e073-a0fc938fe23e"
      },
      "execution_count": null,
      "outputs": [
        {
          "output_type": "stream",
          "name": "stdout",
          "text": [
            "              Train      Test\n",
            "Accuracy   0.804958  0.805748\n",
            "Precision  0.525397  0.534722\n",
            "Recall     0.257989  0.277978\n",
            "ROC AUC    0.738529  0.715965\n"
          ]
        }
      ]
    },
    {
      "cell_type": "markdown",
      "source": [
        "Random Forest model to predict love_class based on category and brand_rank"
      ],
      "metadata": {
        "id": "g94tPWHA9NCF"
      }
    },
    {
      "cell_type": "code",
      "source": [
        "# Drop rows where we don't have a brand_rank to use as feature\n",
        "sephora_br = sephora.dropna(subset=['brand_rank'])\n",
        "\n",
        "X = sephora_br[['brand_rank']]  # Features (brand_rank)\n",
        "y = sephora_br['love_class']  # Target variable (love_class)\n",
        "\n",
        "# Convert 'category' column into one-hot encoded representation\n",
        "category_dummies = pd.get_dummies(sephora_br['category'])\n",
        "\n",
        "# Split the data into training and testing sets\n",
        "X_train, X_test, y_train, y_test = train_test_split(X, y, test_size=0.3, random_state=1)\n",
        "\n",
        "# Create a Random Forest classifier\n",
        "rf = RandomForestClassifier()\n",
        "\n",
        "# Train the model on the training data\n",
        "rf.fit(X_train, y_train)"
      ],
      "metadata": {
        "colab": {
          "base_uri": "https://localhost:8080/",
          "height": 111
        },
        "id": "2Ke8qpat9Qz6",
        "outputId": "1e972b52-ac62-4f53-bac0-8dfb10e6d70a"
      },
      "execution_count": null,
      "outputs": [
        {
          "output_type": "execute_result",
          "data": {
            "text/plain": [
              "RandomForestClassifier()"
            ],
            "text/html": [
              "<style>#sk-container-id-4 {color: black;background-color: white;}#sk-container-id-4 pre{padding: 0;}#sk-container-id-4 div.sk-toggleable {background-color: white;}#sk-container-id-4 label.sk-toggleable__label {cursor: pointer;display: block;width: 100%;margin-bottom: 0;padding: 0.3em;box-sizing: border-box;text-align: center;}#sk-container-id-4 label.sk-toggleable__label-arrow:before {content: \"▸\";float: left;margin-right: 0.25em;color: #696969;}#sk-container-id-4 label.sk-toggleable__label-arrow:hover:before {color: black;}#sk-container-id-4 div.sk-estimator:hover label.sk-toggleable__label-arrow:before {color: black;}#sk-container-id-4 div.sk-toggleable__content {max-height: 0;max-width: 0;overflow: hidden;text-align: left;background-color: #f0f8ff;}#sk-container-id-4 div.sk-toggleable__content pre {margin: 0.2em;color: black;border-radius: 0.25em;background-color: #f0f8ff;}#sk-container-id-4 input.sk-toggleable__control:checked~div.sk-toggleable__content {max-height: 200px;max-width: 100%;overflow: auto;}#sk-container-id-4 input.sk-toggleable__control:checked~label.sk-toggleable__label-arrow:before {content: \"▾\";}#sk-container-id-4 div.sk-estimator input.sk-toggleable__control:checked~label.sk-toggleable__label {background-color: #d4ebff;}#sk-container-id-4 div.sk-label input.sk-toggleable__control:checked~label.sk-toggleable__label {background-color: #d4ebff;}#sk-container-id-4 input.sk-hidden--visually {border: 0;clip: rect(1px 1px 1px 1px);clip: rect(1px, 1px, 1px, 1px);height: 1px;margin: -1px;overflow: hidden;padding: 0;position: absolute;width: 1px;}#sk-container-id-4 div.sk-estimator {font-family: monospace;background-color: #f0f8ff;border: 1px dotted black;border-radius: 0.25em;box-sizing: border-box;margin-bottom: 0.5em;}#sk-container-id-4 div.sk-estimator:hover {background-color: #d4ebff;}#sk-container-id-4 div.sk-parallel-item::after {content: \"\";width: 100%;border-bottom: 1px solid gray;flex-grow: 1;}#sk-container-id-4 div.sk-label:hover label.sk-toggleable__label {background-color: #d4ebff;}#sk-container-id-4 div.sk-serial::before {content: \"\";position: absolute;border-left: 1px solid gray;box-sizing: border-box;top: 0;bottom: 0;left: 50%;z-index: 0;}#sk-container-id-4 div.sk-serial {display: flex;flex-direction: column;align-items: center;background-color: white;padding-right: 0.2em;padding-left: 0.2em;position: relative;}#sk-container-id-4 div.sk-item {position: relative;z-index: 1;}#sk-container-id-4 div.sk-parallel {display: flex;align-items: stretch;justify-content: center;background-color: white;position: relative;}#sk-container-id-4 div.sk-item::before, #sk-container-id-4 div.sk-parallel-item::before {content: \"\";position: absolute;border-left: 1px solid gray;box-sizing: border-box;top: 0;bottom: 0;left: 50%;z-index: -1;}#sk-container-id-4 div.sk-parallel-item {display: flex;flex-direction: column;z-index: 1;position: relative;background-color: white;}#sk-container-id-4 div.sk-parallel-item:first-child::after {align-self: flex-end;width: 50%;}#sk-container-id-4 div.sk-parallel-item:last-child::after {align-self: flex-start;width: 50%;}#sk-container-id-4 div.sk-parallel-item:only-child::after {width: 0;}#sk-container-id-4 div.sk-dashed-wrapped {border: 1px dashed gray;margin: 0 0.4em 0.5em 0.4em;box-sizing: border-box;padding-bottom: 0.4em;background-color: white;}#sk-container-id-4 div.sk-label label {font-family: monospace;font-weight: bold;display: inline-block;line-height: 1.2em;}#sk-container-id-4 div.sk-label-container {text-align: center;}#sk-container-id-4 div.sk-container {/* jupyter's `normalize.less` sets `[hidden] { display: none; }` but bootstrap.min.css set `[hidden] { display: none !important; }` so we also need the `!important` here to be able to override the default hidden behavior on the sphinx rendered scikit-learn.org. See: https://github.com/scikit-learn/scikit-learn/issues/21755 */display: inline-block !important;position: relative;}#sk-container-id-4 div.sk-text-repr-fallback {display: none;}</style><div id=\"sk-container-id-4\" class=\"sk-top-container\"><div class=\"sk-text-repr-fallback\"><pre>RandomForestClassifier()</pre><b>In a Jupyter environment, please rerun this cell to show the HTML representation or trust the notebook. <br />On GitHub, the HTML representation is unable to render, please try loading this page with nbviewer.org.</b></div><div class=\"sk-container\" hidden><div class=\"sk-item\"><div class=\"sk-estimator sk-toggleable\"><input class=\"sk-toggleable__control sk-hidden--visually\" id=\"sk-estimator-id-4\" type=\"checkbox\" checked><label for=\"sk-estimator-id-4\" class=\"sk-toggleable__label sk-toggleable__label-arrow\">RandomForestClassifier</label><div class=\"sk-toggleable__content\"><pre>RandomForestClassifier()</pre></div></div></div></div></div>"
            ]
          },
          "metadata": {},
          "execution_count": 10
        },
        {
          "output_type": "stream",
          "name": "stdout",
          "text": [
            "Training Accuracy: 0.8261615216713439 \n",
            "Test Accuracy: 0.8177519097853765\n"
          ]
        }
      ]
    },
    {
      "cell_type": "code",
      "source": [
        "eval_model(rf, X_train, X_test, y_train, y_test)"
      ],
      "metadata": {
        "colab": {
          "base_uri": "https://localhost:8080/"
        },
        "id": "wCYb0RTuerkN",
        "outputId": "16a22ed5-f9c6-4753-ff08-cd71e1106984"
      },
      "execution_count": null,
      "outputs": [
        {
          "output_type": "stream",
          "name": "stdout",
          "text": [
            "              Train      Test\n",
            "Accuracy   0.826162  0.817752\n",
            "Precision  0.640468  0.597786\n",
            "Recall     0.298519  0.292419\n",
            "ROC AUC    0.828448  0.793549\n"
          ]
        }
      ]
    },
    {
      "cell_type": "markdown",
      "source": [
        "#Hypothesis 2: \"Love_class\" can be predicted by \"ingredients\""
      ],
      "metadata": {
        "id": "BcEqCM0ET4T6"
      }
    },
    {
      "cell_type": "markdown",
      "source": [
        "We will try to vectorize the ingredients list and predict \"love\" based on the vectorized list of ingredients. CountVectorizer creates a matrix of word counts in the ingredient list"
      ],
      "metadata": {
        "id": "upN17zAmWb2c"
      }
    },
    {
      "cell_type": "markdown",
      "source": [
        "First we will need to create a list of valid ingredients as a dictionary for our vectorizer. Ingredients in the Ingredients column are in the form \"Ingredient-\" or \"- ingredient-\"."
      ],
      "metadata": {
        "id": "mqipQWSTpQJ4"
      }
    },
    {
      "cell_type": "code",
      "source": [
        "# Create list of valid ingredients\n",
        "import re\n",
        "\n",
        "def extract_ingredient_words(data):\n",
        "    ingredient_words = set()\n",
        "    pattern = r\"(?<!\\S)([A-Za-z\\s]+-|:[A-Za-z\\s]+-|- [a-z\\s]+-)(?!\\S)\"\n",
        "\n",
        "    for row in data:\n",
        "        # Find all matches of the pattern in the row\n",
        "        row = row.replace(\"\\n\", \" \")\n",
        "        matches = re.findall(pattern, row)    \n",
        "        # Iterate over the matches and add valid ingredient words to the set\n",
        "        for match in matches:\n",
        "            word = match.strip(\"-: \\n\")\n",
        "            ingredient_words.add(word.lower())\n",
        "    return list(ingredient_words)\n",
        "\n",
        "ingredient_phrases = extract_ingredient_words(sephora['ingredients'])"
      ],
      "metadata": {
        "id": "yk57WTD8hum7"
      },
      "execution_count": null,
      "outputs": []
    },
    {
      "cell_type": "code",
      "source": [
        "# Remove other non-ingredient phrases\n",
        "phrases_to_remove = ['parfum fragrance', 'may contain', 'support', 'moisturize',\n",
        "                     'delivers essential vitamins']\n",
        "ingredient_phrases = [phrase for phrase in ingredient_phrases if phrase not in phrases_to_remove]"
      ],
      "metadata": {
        "id": "Ybz9JE6EmhOw"
      },
      "execution_count": null,
      "outputs": []
    },
    {
      "cell_type": "code",
      "source": [
        "ingredient_phrases"
      ],
      "metadata": {
        "colab": {
          "base_uri": "https://localhost:8080/"
        },
        "id": "uijXK2mcqpvb",
        "outputId": "86c3ad28-5424-4a5d-f501-2d36762abcfa"
      },
      "execution_count": null,
      "outputs": [
        {
          "output_type": "execute_result",
          "data": {
            "text/plain": [
              "['',\n",
              " 'goalz',\n",
              " 'linolenic acid',\n",
              " 'hydrogentaed vegetable oil',\n",
              " 'vanillyl butyl ether',\n",
              " 'beverly hills',\n",
              " 'supports turnover for smoother',\n",
              " 'helps to soothe',\n",
              " 'silica dimethyl silyate',\n",
              " 'provides a source of youthfulness',\n",
              " 'hydrolyzed  soy  protein',\n",
              " 'softens the hair',\n",
              " 'citric acid\\u2028gigartina stellata extract',\n",
              " 'geranyl acetate',\n",
              " 'natural vitality',\n",
              " 'dipheptyl succinate',\n",
              " 'lipo hydroxy acid',\n",
              " 'rutin',\n",
              " 'pisum sativum extract',\n",
              " 'smilax aristolochiifolia root extract',\n",
              " 'escape',\n",
              " 'sodium hyaluronate powder',\n",
              " 'acetylated lanolin alcohol',\n",
              " 'seaside',\n",
              " 'so before using',\n",
              " 'starch octenylsuccinate',\n",
              " 'musa sapientum flower extract',\n",
              " 'potato extract ferment filtrate',\n",
              " 'disodium stearoyl glutamate',\n",
              " 'darkness',\n",
              " 'keep out of reach of children',\n",
              " 'organic ginger extract',\n",
              " 'broccoli',\n",
              " 'supports brain',\n",
              " 'goji berries',\n",
              " 'and prevents oil from oxidizing',\n",
              " 'hesperetin laurate',\n",
              " 'tuscan orris',\n",
              " 'a combination of prunus extract',\n",
              " 'lightly moisturize',\n",
              " 'gloiopeltis furcata extract',\n",
              " 'provides a naturally relaxing',\n",
              " 'jojoba butter',\n",
              " 'lythrum salicaria extract',\n",
              " 'extrait de levure',\n",
              " 'help protect against free radical damage while moisturizing',\n",
              " 'tilapia skin',\n",
              " 'alpinia galanga leaf extract',\n",
              " 'pure vitamin c works to instantly brighten the look of dull',\n",
              " 'grace shampoo',\n",
              " 'montmorillonite',\n",
              " 'salicylicacid',\n",
              " 'unalcol',\n",
              " 'perforatum extract',\n",
              " 'help reveal softer',\n",
              " 'hyaluronic filling spheres and a soft powder blend fills out the look of lips and creates a smoothing',\n",
              " 'and minerals',\n",
              " 'most perfect ingredient for better',\n",
              " 'dimenthiconol',\n",
              " 'proteins',\n",
              " 'noncomedogenic',\n",
              " 'zea may starch',\n",
              " 'blushtalc',\n",
              " 'methyl ether dimethicone',\n",
              " 'ester',\n",
              " 'disodium  edta',\n",
              " 'smooth the hair and provide frizz protectionwater',\n",
              " 'acts like a protective',\n",
              " 'extracted from the seeds of the sacha inchi fruit',\n",
              " 'detoxifies skin',\n",
              " 'camphanediol',\n",
              " 'attract water into the skin for the appearance of smooth',\n",
              " 'plump',\n",
              " 'potassium hydroxidw',\n",
              " 'tetrastearate triacetate',\n",
              " 'naturally derived cleansers to gently wash away surface oil',\n",
              " 'prunus domestica seed oil',\n",
              " 'podium quinoa seed extract',\n",
              " 'keep pores clean',\n",
              " 'dipolyhydroxystearate',\n",
              " 'borosilicate',\n",
              " 'robinia pseudacacia flower extract',\n",
              " 'lactoferrin',\n",
              " 'imperata cylindrica root extract',\n",
              " 'carob gum',\n",
              " 'triplal',\n",
              " 'aiding in moisture retention',\n",
              " 'potassium bitartrate',\n",
              " 'tusk',\n",
              " 'calcium sodiumborosilicate',\n",
              " 'docosahexaenoic acid',\n",
              " 'hexyl acetate',\n",
              " 'olibanum',\n",
              " 'lauryl methicone',\n",
              " 'oxidized polyethylene',\n",
              " 'echinacea purpurea extract',\n",
              " 'manganese violet',\n",
              " 'glycolic acid from sugar cane',\n",
              " 'hydroxypropyltrimonium maltodextrin crosspolymer',\n",
              " 'ingredients refresh',\n",
              " 'coconut oil softens',\n",
              " 'shades',\n",
              " 'soothe and calm skin',\n",
              " 'antioxidants that protect against environmental damage and help calm and soothe red',\n",
              " 'bran oil emollient',\n",
              " 'l methyl cocoyl taurate',\n",
              " 'irritated skin',\n",
              " 'natural wild berry flavor',\n",
              " 'carrot',\n",
              " 'spirulina extract',\n",
              " 'lemon juice',\n",
              " 'cranberry extract',\n",
              " 'saccharum officinarum ferment extract',\n",
              " 'magnolia officinalis bark extract',\n",
              " 'tetrahydrobisdemethoxydiferulolymethane',\n",
              " 'improves barrier function',\n",
              " 'hydrogenated rapeseed oil',\n",
              " 'calms and reduces dryness',\n",
              " 'of balloon vine',\n",
              " 'polydimethylsiloxyethyl',\n",
              " 'diisostearate',\n",
              " 'double life',\n",
              " 'peel oil fragrance',\n",
              " 'limonene ethylhexyl methoxycinnamate',\n",
              " 'aloe vera leaf juice',\n",
              " 'sapindus mukorossifruit extract',\n",
              " 'dark circles',\n",
              " 'cocktail of extracts including sunflower',\n",
              " 'hydrolyzed egg shell membrane',\n",
              " 'works to calm',\n",
              " 'orange peel oil',\n",
              " 'aminopropyl dimethicone',\n",
              " 'tract',\n",
              " 'phenoxyisopropanol',\n",
              " 'vp eicosene copolymer',\n",
              " 'alpha isomethylionone',\n",
              " 'pelargonium graveolens flower extract',\n",
              " 'corbate',\n",
              " 'supporting natural cell turnover for the appearance of smoother',\n",
              " 'aspalathus linearis leaf extract',\n",
              " 'clover',\n",
              " 'easily absorbed',\n",
              " 'valet',\n",
              " 'cermide ng',\n",
              " 'restore',\n",
              " 'sodium astrocaryum murumuruate',\n",
              " 'polyisoprene',\n",
              " 'myristamine oxide',\n",
              " 'chloroxylenol',\n",
              " 'helps retains moisturize for long lasting hydrationwater',\n",
              " 'chenopodium quinoa seed extract',\n",
              " 'abeille',\n",
              " 'laureth',\n",
              " 'provides antioxidant action to soften',\n",
              " 'punica granatum fruit extract',\n",
              " 'microcitrus australasica fruit extract',\n",
              " 'aluminum silicate',\n",
              " '\\xa0xylitylglucoside',\n",
              " 'alcohol denat',\n",
              " 'helps stave off environmental aggressors with licorice root',\n",
              " 'an emollient oil that is rich in omegas and helps calm',\n",
              " 'organic ginger',\n",
              " 'rich in essential fatty acids that help increase moisture',\n",
              " 'butyloctylsalicylate',\n",
              " 'cinnamomum zelanicum bark extract',\n",
              " 'hydrogenated castor oil isostearate',\n",
              " 'stem',\n",
              " 'beans',\n",
              " 'methyl',\n",
              " 'anthemis nobilisflower oil',\n",
              " 'creates a fuller lip look with hyaluronic acid synthesis',\n",
              " '\\t  silica',\n",
              " 'hydroxypalmitoyl sphinganine',\n",
              " 'a potent trio of peptides that helps firm and strengthen',\n",
              " 'hibiscus fruit extract',\n",
              " 'banksia serrata flower extract',\n",
              " 'euterpe oleracea fruit extract',\n",
              " 'lithospermum erythrorhizon root extract',\n",
              " 'coats hair strands to deliver protection from heat with a satin',\n",
              " 'nourishes the delicate eye area',\n",
              " 'camellia kissi seed oil',\n",
              " 'absorb excess oil',\n",
              " 'aluminum hydroxide',\n",
              " 'tones skin for a calm',\n",
              " 'protects from future damage',\n",
              " 'quinoa',\n",
              " 'titanium oxide',\n",
              " 'oleate',\n",
              " 'a free form that starts treating immediately and an encapsulated form that treats over time',\n",
              " 'granatim fruit ferment extract',\n",
              " 'tocopheryl nicotinate',\n",
              " 'sorbiton olivate',\n",
              " 'calcium lactate',\n",
              " 'silicone',\n",
              " 'an edible plant prized for centuries in herbal medicine for its recovery benefits',\n",
              " 'safflower',\n",
              " 'schinziophyton rautanenii kernal oil',\n",
              " 'cranberries',\n",
              " 'dihydro pentamethylindanone',\n",
              " 'polyqua',\n",
              " 'jelly extract',\n",
              " 'cryptomeria japonica leaf extract',\n",
              " 'tamarindus indica seed extract',\n",
              " 'azoic',\n",
              " 'palm glycerides',\n",
              " 'triisostearate',\n",
              " 'sugar cane',\n",
              " 'provides a deep',\n",
              " 'increase metabolism',\n",
              " 'tetraisostearate',\n",
              " 'equisetum arvense extract',\n",
              " 'rubus occidentalis fruit extract',\n",
              " 'cocodimonium hydroxypropyl silk amino acids',\n",
              " 'and helps reduce the appearance of pores',\n",
              " 'creates a foamy texture with natural foaming agents and soothing properties as it conditions',\n",
              " 'milk',\n",
              " 'tyrosine',\n",
              " 'aucoumea klaineana resin extract',\n",
              " 'prunus',\n",
              " 'plumeria acutifolia flower extract',\n",
              " 'known to promote feelings of happiness and warmthisododecane',\n",
              " 'a highly refined',\n",
              " 'detects cracks and fissures in the hair surfaces',\n",
              " 'camellia',\n",
              " 'glycolici acid',\n",
              " 'dextrin palmitate',\n",
              " 'super fruit that helps keep skin healthy',\n",
              " 'silica silylate',\n",
              " 'cinnamal',\n",
              " 'tridecane',\n",
              " 'camellia oleifera leaf extract',\n",
              " 'support the reduction of melanin production',\n",
              " 'supports the appearance of skin elasticity',\n",
              " 'smoother skin',\n",
              " 'genated olive oil unsaponifiables',\n",
              " 'tilia tomentosa bud extract',\n",
              " 'cetearyl alcohol',\n",
              " 'retinol compound that organically works overnight to find and repair mechanical wrinkling damage so you wake up to smoother',\n",
              " 'schizandra chinensis fruit extract',\n",
              " 'moisturizing benefits',\n",
              " 'of evening primrose',\n",
              " 'butylene glycol',\n",
              " 'contains naturally purifying properties',\n",
              " 'xanthan',\n",
              " 'bambusa arundinacea leaf extract',\n",
              " 'copper complex gluconate',\n",
              " 'citrus aurantium amara peel oil',\n",
              " 'polymethysilsesquioxane',\n",
              " 'algae oligosaccharides',\n",
              " 'organic turmeric root powder',\n",
              " 'citrus madurensis fruit extract',\n",
              " 'magnesium citrate',\n",
              " 'shiitake mushroom extract',\n",
              " 'lamium album flower extract',\n",
              " 'helps leave skin soft looking',\n",
              " 'hydrolyzed corn starch octenylsuccinate',\n",
              " 'xanthophylls',\n",
              " 'cheek balm in crave',\n",
              " 'pelargonium graveolens flower essential oil',\n",
              " 'polish away dull dead skin',\n",
              " 'provides hydration and fortifies weak',\n",
              " 'selenium',\n",
              " 'vegetable glycerin',\n",
              " 'used in western herbal medicine',\n",
              " 'sodium tocopheryl phosphate',\n",
              " 'citrus limon fruit oil',\n",
              " 'propylene glycol isostearate',\n",
              " 'helps slough off dead skin cells and leave a healthy',\n",
              " 'acrylate copolymer',\n",
              " 'ethyl benzoate',\n",
              " 'acrylates polymer',\n",
              " 'rebalance',\n",
              " 'backhousia citriodora oil',\n",
              " 'leaves skin visibly firmer',\n",
              " 'saccharomyces ferment extract',\n",
              " 'sun',\n",
              " 'cholesteryl chloride',\n",
              " 'laminaria saccharina extract',\n",
              " 'octyldodecyl ricinoleate',\n",
              " 'chemically exfoliates to help improve the look of fine lines and wrinkles',\n",
              " 'phlox',\n",
              " 'rosa damascena flower water',\n",
              " 'cera microcrystalline',\n",
              " 'hydrates to plump dry',\n",
              " 'peppermint oil',\n",
              " 'spiced',\n",
              " 'collagen cyclopentasiloxane',\n",
              " 'camelia',\n",
              " 'vitis vinifera leaf extract',\n",
              " 'dioxine',\n",
              " 'wrinkles',\n",
              " 'octanohydroxamic acid',\n",
              " 'balances skin tone',\n",
              " 'helps fight the first signs of aging caused by stress',\n",
              " 'rosa damascena flower wax',\n",
              " 'cactus flower extract',\n",
              " 'isostearic acid',\n",
              " 'microcrystalline',\n",
              " 'citrus medica vulgaris peel oil',\n",
              " 'cyclamen aldehyde',\n",
              " 'symphytum officinale root extract',\n",
              " 'pinus densiflora leaf extract',\n",
              " 'myristyl alcohol',\n",
              " 'seedcake extract',\n",
              " 'sinensis extract ferment filtrate',\n",
              " 'butylphenyl methylpropional',\n",
              " 'packed with nutrients',\n",
              " 'octyldodecanol stearoyl stearate',\n",
              " 'glycol mica',\n",
              " 'dipteryx odorate seed extract',\n",
              " 'leaves skin firmer',\n",
              " 'lorelei',\n",
              " 'de abeille',\n",
              " 'bixa orellana seed extract',\n",
              " 'ginger root',\n",
              " 'and flaxseed help replenish',\n",
              " 'methyl hydrogenated rosinate',\n",
              " 'hydrogenated caster oil',\n",
              " 'known for its antioxidant properties',\n",
              " 'cocamidopropyl  betaine',\n",
              " 'whose flower is alkyl acrylate crosspolymer',\n",
              " 'aluminum starch octenylsuccinate',\n",
              " 'unclogs and minimizes the look of pores',\n",
              " 'magnolol',\n",
              " 'annona squamosa seed extract',\n",
              " 'bulnesia sarmientoi wood oil',\n",
              " 'helps maintain even skin tone and luminosity',\n",
              " 'mauritia flexuosa fruit oil',\n",
              " 'known to help nurture dry',\n",
              " 'eriobotrya japonica leaf protoplasts',\n",
              " 'help to hydrate',\n",
              " 'vulcano',\n",
              " 'sclerocarya birrea oil',\n",
              " 'asiaticoside',\n",
              " 'hydrolyzed keratin',\n",
              " 'glycol copolymer',\n",
              " 'diethylhexyl carbonate',\n",
              " 'coconut extract',\n",
              " 'myrtus communis oil',\n",
              " 'malachite extract',\n",
              " 'litchi chinensis pericarp ext ract',\n",
              " 'sodium glucuronate',\n",
              " 'acts as a rich source of antioxidants',\n",
              " 'ethyl perfluorobutyl ether',\n",
              " 'magnesium gluconate',\n",
              " 'organic pomegranate',\n",
              " 'diethylhexyl syringyldenemalonate',\n",
              " 'propylene glycol dibenzoate',\n",
              " 'calcium pca',\n",
              " 'nigella sativa seed extract',\n",
              " 'hemicellulase',\n",
              " 'benzylsalicylate',\n",
              " 'organic cinnamon',\n",
              " 'edta',\n",
              " 'diaminohydroxybutyrate',\n",
              " 'lavandula hybrida abrial herb oil',\n",
              " 'vinergy complex',\n",
              " 'eugenol',\n",
              " 'leaf juice powder',\n",
              " 'leaving hair smooth',\n",
              " 'protects against free radicals and uv rays',\n",
              " 'cocotrimonium methosulfate',\n",
              " 'sodium carbonate decahydrate',\n",
              " 'lightly hydrates the skin leaving the skin comfortable',\n",
              " 'helps protect your body from oxidative stress',\n",
              " 'isoquercetin',\n",
              " 'rosegold',\n",
              " 'cannabis sativa seed oil',\n",
              " 'baja',\n",
              " 'removes makeup',\n",
              " 'a powerful yet gentle exfoliator used to slough off dead skin cells',\n",
              " 'tagetes minuta flower oil',\n",
              " 'mahogany matte',\n",
              " 'punk',\n",
              " 'lauramine oxide',\n",
              " 'it is extremely moisturizing',\n",
              " 'before using a parfums christian dior product',\n",
              " 'replenish',\n",
              " 'cypress',\n",
              " 'ppgs',\n",
              " 'phthalates',\n",
              " 'glycol dimethacrylate crosspolymer',\n",
              " 'while also working against dryness',\n",
              " 'aquamarine',\n",
              " 'rejuvenate and sculpt',\n",
              " 'sherbet',\n",
              " 'hydrates and exfoliates the surface layers of the skin',\n",
              " 'and softer',\n",
              " 'daucus carota sativa extract',\n",
              " 'revealing smooth',\n",
              " 'glyceryl sterate',\n",
              " 'diglycerin',\n",
              " 'visibly brightens and evens skin tone',\n",
              " 'methylbensyl acetate',\n",
              " 'nymphaea alba leaf cell extract',\n",
              " 'and nourishment to the skin with lauric acid',\n",
              " 'dimethylaminopropylamine',\n",
              " 'stronger',\n",
              " 'wizard detangling primercyclopentasiloxane',\n",
              " 'liquid endosperm',\n",
              " 'plumps skin',\n",
              " 'visibly lightens dark spots',\n",
              " 'fumarates',\n",
              " 'sucre',\n",
              " 'serpyllum extract',\n",
              " 'features superior visible brightening',\n",
              " 'ciremicrocristalline',\n",
              " 'glycerin cyclopentasiloxane',\n",
              " 'princeps leaf water',\n",
              " 'helps soothe and purifywater',\n",
              " 'nelumbo nuciferaflower extract',\n",
              " 'high in antioxidants',\n",
              " 'polyglyceryl',\n",
              " 'selenomethionine',\n",
              " 'organic lemongrass',\n",
              " 'idyl alcohol',\n",
              " 'pentaerythrityl tetrastearate',\n",
              " 'lauryl glycol ether',\n",
              " 'a low glycemic',\n",
              " 'schisandra chinensis fruit extract',\n",
              " 'pumice',\n",
              " 'provides natural fragrance and antioxidant benefits',\n",
              " 'helps repel dirt and oil to keep hair cleaner',\n",
              " 'over time',\n",
              " 'sea buckthorn berry',\n",
              " 'ability to retain moisture while adding volume to detangle',\n",
              " 'lifts residues from hair',\n",
              " 'micro hylaronic acid complex',\n",
              " 'white truffle',\n",
              " 'orchis mascula extract',\n",
              " 'supports energy',\n",
              " 'laurus nobilis leaf extract',\n",
              " 'licheniformis keratinase',\n",
              " 'sodium isostearate',\n",
              " 'jojoba oil',\n",
              " 'sun flower oil complex',\n",
              " 'that the hair can more easily absorb',\n",
              " 'hydration with a plumping effect',\n",
              " 'larix europaea wood extract',\n",
              " 'softens dry skin',\n",
              " 'histidine',\n",
              " 'has high concentrations of vitamin a',\n",
              " 'proprietary technology formulated to optically blur away the look of pores',\n",
              " 'help to reduce the looks of lines',\n",
              " 'melilotus officinalis extract',\n",
              " 'acetyl carnitine hcl',\n",
              " 'smooths',\n",
              " 'tridecyl neopentanoate',\n",
              " 'morinda citrifolia fruit extract',\n",
              " 'helps hair retain moisture',\n",
              " 'aminomethyl propanol',\n",
              " 'composed of jojoba oil and sesame seed oil',\n",
              " 'celosiacristata flower extract',\n",
              " 'soothes itchy scalp',\n",
              " 'an amino acid essential to healthy',\n",
              " 'black tea ferment',\n",
              " 'improve the look of fine lines and wrinkles',\n",
              " 'ceramide as',\n",
              " 'potassium sorbate citric acid',\n",
              " 'methyl  glucose',\n",
              " 'nicotiana sylvestris leaf cell culture',\n",
              " 'psyllium husks',\n",
              " 'vinyl',\n",
              " 'replenishes moisture',\n",
              " 'trametes versicolor extract',\n",
              " 'and proteins',\n",
              " 'formis leaf extract',\n",
              " 'helping to loosen blackheads',\n",
              " 'organic lavender flower and roman chamomile flower water',\n",
              " 'percent sugar cane derived',\n",
              " 'sodium  chloride',\n",
              " 'sesame seed oil',\n",
              " 'wish',\n",
              " 'easy glide',\n",
              " 'a proprietary antiaging complex that combats chronological',\n",
              " 'butter cream',\n",
              " 'sand',\n",
              " 'trimethylpentanediyl dibenzoate',\n",
              " 'disodium  cocoyl  glutamate',\n",
              " 'olive oil',\n",
              " 'centella asiatica meristem cell',\n",
              " 'corn',\n",
              " 'helps fade the appearance of skin discoloration including dark spots',\n",
              " 'increases hydration levels',\n",
              " 'rustic',\n",
              " 'supports a powerful protein',\n",
              " 'and intensity of skin discolorations for a smooth',\n",
              " 'abies sibirica oi',\n",
              " 'which naturally strengthens the skin',\n",
              " 'work together to enzymatically dissolve dead surface skin cells',\n",
              " 'brow hair',\n",
              " 'citronade rose',\n",
              " 'la lupe',\n",
              " 'aesculus hippocastanum seed extract',\n",
              " 'powerful cocktail of amino acids that work to stimulate cell turnover',\n",
              " 'syzygium luehmannii fruit extract',\n",
              " 'isohexadecane',\n",
              " 'edible gold imparts radiance',\n",
              " 'calophyllum tacamahaca seed oil',\n",
              " 'ate',\n",
              " 'dilinoleic acid',\n",
              " 'sclareolide',\n",
              " 'magnolia gradiflora bark extract',\n",
              " 'vitamin e from sunflower seed',\n",
              " 'hexamethylindanopyran',\n",
              " 'hydrogenated polyisobutene',\n",
              " 'butylphenyl',\n",
              " 'dullness',\n",
              " 'provide gentle chemical exfoliation to loosen dead',\n",
              " 'marin',\n",
              " 'cinnamyl alcohol',\n",
              " 'and damaged hair',\n",
              " 'grape seed oil',\n",
              " 'moisture barrier',\n",
              " 'benzyl ether myristate',\n",
              " 'luna',\n",
              " 'absorb excess oil at the roots to refresh',\n",
              " 'dicapryl carbonate',\n",
              " 'calcium ketogluconate',\n",
              " 'lauramide mipa',\n",
              " 'reduces thermal damage',\n",
              " 'ingredient that supports natural collagen synthesis',\n",
              " 'bonds to the natural protein sites on the hair',\n",
              " 'calcium sodium corosilicate',\n",
              " 'phyllostachis bambusoides juice',\n",
              " 'absorbs harmful substances from the skin such as minerals and toxins',\n",
              " 'litsea cubeba fruit extract',\n",
              " 'a unique',\n",
              " 'sigesbeckia orientalis extract',\n",
              " 'provide skin with a powerful dose of antioxidants',\n",
              " 'replenishes lost moisture and provides a natural uv filter',\n",
              " 'absorbs uvb rays and reflects uva rays',\n",
              " 'finish for smooth',\n",
              " 'bambusa vulgaris sap extract',\n",
              " 'this herb may enhance sleep quality',\n",
              " 'geranium oil',\n",
              " 'mentha arvensis oil',\n",
              " 'dipotassium glycyrrhizate',\n",
              " 'improved scalp health',\n",
              " 'acid copolymer behenate',\n",
              " 'provides excellent',\n",
              " 'schlerotium gum',\n",
              " 'zizyphus joazeiro bark extract',\n",
              " 'seed oil water',\n",
              " 'methyl nonafluorobutyl ether',\n",
              " 'replenishes',\n",
              " 'ginkgo leaf extract',\n",
              " 'reduces the look of dark spots',\n",
              " 'cinnamomum',\n",
              " 'petrolatum and parrafin that is not usp grade',\n",
              " 'provides pure',\n",
              " 'aloe barbadensis flower extract',\n",
              " 'ceramide eos',\n",
              " 'hydrogenated castor oilisostearate',\n",
              " 'reticulata leaf oil',\n",
              " 'naturally rich in fatty acids',\n",
              " 'flower honeys',\n",
              " 'guaiacwood oil',\n",
              " 'dilaurate',\n",
              " 'helps reduce the appearance of fine lines and wrinkles',\n",
              " 'sodium hydroxid',\n",
              " 'extrait de racine de betterave',\n",
              " 'hydrogenated palm oil',\n",
              " 'contains the highest level ever found in a specialty oil of the essential fatty acid',\n",
              " 'niacin',\n",
              " 'dehyddroacetic acid',\n",
              " 'lanolin oil',\n",
              " 'cellulase',\n",
              " 'countering sagging',\n",
              " 'properties to help calm',\n",
              " 'all while adding shine',\n",
              " 'golden ochre',\n",
              " 'ricinus communis seed oil',\n",
              " 'ricinoleate',\n",
              " 'carrot root extract',\n",
              " 'while working to even skin tone',\n",
              " 'americana leaf ferment filtrate',\n",
              " 'hydrogenated styrene',\n",
              " 'linseed acid',\n",
              " 'improves the volume and feel of damaged hair',\n",
              " 'seals in moisture and nurtures with of vitamins a',\n",
              " 'linoleamidopropyl ethyldimonium ethosulfate',\n",
              " 'linden flower extract',\n",
              " 'macadamia integrifolia seed oil',\n",
              " 'have astringent and antiseptic qualities that freshen',\n",
              " 'methyl etherdimethyl silane',\n",
              " 'tocopheryl acetate',\n",
              " 'pentaerythrityltetraethylhexanoate',\n",
              " 'bifidum',\n",
              " 'removes impurities',\n",
              " 'a blend of prebiotic and probiotic ingredients that helps balance',\n",
              " 'and pearl pigments for sheer',\n",
              " 'mangifera indica pulp extract',\n",
              " 'hydrocarbon',\n",
              " 'triethoxycaprylysilane',\n",
              " 'sapindus mukurossi fruit extract',\n",
              " 'benzylcinnamate',\n",
              " 'packed with polyphenols',\n",
              " 'helps smooth',\n",
              " 'peach cobbler',\n",
              " 'helps increase shine',\n",
              " 'amino sugars facilitate exfoliation to support cell turnover',\n",
              " 'sodium succinate',\n",
              " 'prime and day eye',\n",
              " 'gmelina arborea root extract',\n",
              " 'sodalite',\n",
              " 'cocoyl proline',\n",
              " 'sorbitan olivate',\n",
              " 'acai powder',\n",
              " 'vinyl dimethicone crosspolymer',\n",
              " 'redness',\n",
              " 'amino acids adds strength and improved manageability',\n",
              " 'thickness',\n",
              " 'bubble gum',\n",
              " 'memory',\n",
              " 'hydroxide',\n",
              " 'triglyceride panthenol',\n",
              " 'hexyldecyl stearate',\n",
              " 'of probiotics',\n",
              " 'acacia seyal gum extract',\n",
              " 'lavendula hybrida oil',\n",
              " 'rye flour',\n",
              " 'palmitoyl oligopeptides',\n",
              " 'clarifies skin by providing antioxidants',\n",
              " 'lait',\n",
              " 'coptis japonica extract',\n",
              " 'repairs and restores moisture',\n",
              " 'known to boost focus',\n",
              " 'including suppleness',\n",
              " 'nymphaea alba flower extract',\n",
              " 'flavor',\n",
              " 'hydrated',\n",
              " 'provides deep moisture and softens rough',\n",
              " 'a coated',\n",
              " 'repairs breakage for smooth',\n",
              " 'citral benzyl benzoate',\n",
              " 'behentrimoniumchloride',\n",
              " 'hci',\n",
              " 'perilla frutescens leaf extract',\n",
              " 'dangerous woman',\n",
              " 'methylparaben silica',\n",
              " 'levan',\n",
              " 'methyl ether triethoxysilane',\n",
              " 'iron hydroxide',\n",
              " 'busa arundinacea stem extract',\n",
              " 'pectin',\n",
              " 'help soothe and even the appearance of skin texture after exfoliation for a nurtured',\n",
              " 'coffea canephora seed extract',\n",
              " 'coconut',\n",
              " 'naturally exfoliate dead skin cells',\n",
              " 'fromapple',\n",
              " 'pan',\n",
              " 'glyceryl linoleate',\n",
              " 'percent retinol',\n",
              " 'lauryl olivate',\n",
              " 'new yawker',\n",
              " 'lauryldimonium hydroxypropyl wheat starch',\n",
              " 'a powerhouse humectant that helps skin look softer',\n",
              " 'sodium hydroxymethylglycinate',\n",
              " 'roman chamomile',\n",
              " 'eclipta prostrata leaf extract',\n",
              " 'methylglucamine',\n",
              " 'lauramide dipa',\n",
              " 'loaded with vitamin c and antioxidants',\n",
              " 'natural active ingredients fight attack from environmental stressors and act as a barrier between makeup and skin',\n",
              " 'yeast amnio acids',\n",
              " 'external use only',\n",
              " 'where it is most effective',\n",
              " 'and grime',\n",
              " 'hydrate for firmer',\n",
              " 'combats chronological',\n",
              " 'sorghum bicolor stalk juice',\n",
              " 'provides antioxidants that help to nurture',\n",
              " 'leaf oil',\n",
              " 'pogostemon cablin leaf oil',\n",
              " 'helps to support the health of hair as a good source of alpha linolenic acid',\n",
              " 'gentle yet effective acids remove buildup of dead skin cells for smooth',\n",
              " 'ammonium polyacryloyldimethyl taurate',\n",
              " 'hyroxycitronellal',\n",
              " 'improves skin radiance',\n",
              " 'isomalt',\n",
              " 'vanilla',\n",
              " 'somnifera root powder',\n",
              " 'isocetyl stearate',\n",
              " 'panax notoginseng root extract',\n",
              " 'hydroxypropyl guar',\n",
              " 'with stearic acid',\n",
              " 'origanum majorana leaf extract',\n",
              " '\\t\\t\\t water',\n",
              " 'trax',\n",
              " 'oil aminopropanediol esters',\n",
              " 'helps to restore dry',\n",
              " 'guilt trip',\n",
              " 'decaoleate',\n",
              " 'hydrosol water',\n",
              " 'calms redness and supports blood flow',\n",
              " 'collagen fibers',\n",
              " 'ascorbyl tocopheryl maleate',\n",
              " 'lycopodium clavatum extract',\n",
              " 'alternative to provide a silky texture',\n",
              " 'hydroxyhydrocinna mate',\n",
              " 'ahas',\n",
              " 'contains peptides',\n",
              " 'octyldodecylstearoyl stearate',\n",
              " 'defend',\n",
              " 'canarium luzonicum gum nonvolatiles',\n",
              " 'amodimethicon',\n",
              " 'sepia',\n",
              " 'seed oil',\n",
              " 'hydrogenated polydecene',\n",
              " 'rds product name brow tech to go',\n",
              " 'calms redness',\n",
              " 'potassium srobate',\n",
              " 'chlorella pyrenoidosa',\n",
              " 'panax ginseng root extract',\n",
              " 'sodium cocoate',\n",
              " 'increases skin elasticity levels and collagen production resulting in restored skin density',\n",
              " 'sodium hyaluronate crosspolymer',\n",
              " 'nut butter',\n",
              " 'artichoke',\n",
              " 'chlorella microalgae powder',\n",
              " 'behenamidopropyldimethylamine',\n",
              " 'enhances shine',\n",
              " 'glyceryl triethylhexanoate',\n",
              " 'sodium myristoyl glutamate',\n",
              " 'sodiumpolyaspartate',\n",
              " 'diethoxyethyl succinate',\n",
              " 'organic apple fiber',\n",
              " 'hydrolyzed ginseng saponins',\n",
              " 'leaf',\n",
              " 'and contains high levels of calcium',\n",
              " 'hydrates',\n",
              " 'flower',\n",
              " 'reduce the appearance of dark circles under eyes to brighten the area',\n",
              " 'these natural moisturizers soothe',\n",
              " 'polydecene',\n",
              " 'vinyl dimethicone',\n",
              " 'eugenollemon zest',\n",
              " 'eliminate skin dirt',\n",
              " 'lava clay',\n",
              " 'high in essential fatty acids',\n",
              " 'phenyl ether',\n",
              " 'isoeicosane',\n",
              " 'hydrates and nourishes hair',\n",
              " 'chlorella protothecoides oil',\n",
              " 'vaccinium myrtillus',\n",
              " 'cools and rehydrates skin',\n",
              " 'glucose syrup',\n",
              " 'penetrates to help nourish',\n",
              " 'ethyl palmitate',\n",
              " 'chestnut seed extract',\n",
              " 'testing is done on the raw hemp',\n",
              " 'emblica officinalis fruit extract',\n",
              " 'effectively removes toxins',\n",
              " 'sodium stearoyl  glutamate',\n",
              " 'skin',\n",
              " 'eau',\n",
              " 'structure and richly nourishes it',\n",
              " 'pentasodium triphosphate',\n",
              " 'bakuchiol',\n",
              " 'tremella funciformis sporocarp extract',\n",
              " 'helichrysum',\n",
              " 'butylene glycol cocoate',\n",
              " 'castor isostearate succinate',\n",
              " 'paullinia cupana seed extract',\n",
              " 'sodium lauryl glycol carboxylate',\n",
              " 'penetrates the hair shaft to seal in moisture',\n",
              " 'calendula extract',\n",
              " 'oryza sativa starch',\n",
              " 'hair',\n",
              " 'pinanediol',\n",
              " 'rich in calcium',\n",
              " 'promotes skin elasticity for plump',\n",
              " 'sophora japonica fruit extract',\n",
              " 'hydrolyzed lemon protein',\n",
              " 'porphyra yezoensis extract',\n",
              " 'calcium sulphate',\n",
              " 'soften',\n",
              " 'helps fight free radical damage',\n",
              " 'works to exfoliate skin and increase cell renewal for a smoother',\n",
              " 'hydrogenated',\n",
              " 'soothe irritated skin',\n",
              " 'seed protein',\n",
              " 'san',\n",
              " 'refines',\n",
              " 'artemisia princeps leaf water',\n",
              " 'methylsilanol mannuronate',\n",
              " 'dicaprylyl ether',\n",
              " 'skin becomes actively thirsty for folic acid',\n",
              " 'octyldoecanol',\n",
              " 'globularia cordifolia callus culture extract',\n",
              " 'calcium aluminium borosilicate',\n",
              " 'butylmethoxydibenzoylmethane',\n",
              " 'impurities',\n",
              " 'control shine',\n",
              " 'n',\n",
              " 'silylethyl dimethicone',\n",
              " 'amino acids add strength and improved manageability',\n",
              " 'triethoxycaprylylsilane',\n",
              " 'help to reduce the look of lines',\n",
              " 'protects against breakage',\n",
              " 'oxide    cyclopentasiloxane',\n",
              " 'trimethylolpropane triethylhexanoate',\n",
              " 'caprooyl sphingosine',\n",
              " 'helps reduce the appearance of dark spots',\n",
              " 'citrus sinensis peel oil',\n",
              " 'citrus clementina fruit extract',\n",
              " 'vitamin c',\n",
              " 'phyllanthusemblica extract',\n",
              " 'scalp',\n",
              " 'berberis vulgaris root extract',\n",
              " 'tocopheryl succinate',\n",
              " 'act as natural humectants to prevent moisture loss',\n",
              " 'cherry on top',\n",
              " 'organic turmeric extract',\n",
              " 'hydrolyzed amaranth protein',\n",
              " 'surface while providing a delicious',\n",
              " 'hyacinth ferment',\n",
              " 'nucifera oil',\n",
              " 'terephthalate',\n",
              " 'behenyl alcohol tocopheryl acetate',\n",
              " 'ximenia americana seedate',\n",
              " 'piperidinyl dimethicone',\n",
              " 'potassium cocoate',\n",
              " 'hectorite',\n",
              " 'phenylethyl resorcinol',\n",
              " 'repairs damage along the hair cuticle to leave hair healthier',\n",
              " 'moroccan lava clay',\n",
              " 'moisterizes with a rich supply of fatty acids',\n",
              " 'ruby powder',\n",
              " 'sea buckthorn extract',\n",
              " 'barrier',\n",
              " 'extracted from the flower',\n",
              " 'densely packed bristles create a sturdy interior that is surrounded by a perimeter of soft',\n",
              " 'ammonium polyacrylate',\n",
              " 'kluyveromyces extract',\n",
              " 'orange',\n",
              " 'hippophae rhamnoides kernel extract',\n",
              " 'flossy',\n",
              " 'better skin adhesion',\n",
              " 'hydrolyzed opuntia ficus',\n",
              " 'evening rose fragrance fragrance',\n",
              " 'clay mineral oxides',\n",
              " 'harvested from arctic norwegian seas',\n",
              " 'oxides',\n",
              " 'dead skin cells',\n",
              " 'calms',\n",
              " 'and humectant properties',\n",
              " 'alpinia ocinarum leaf extract',\n",
              " 'natural forms of vitamin e',\n",
              " 'quercetin caprylate',\n",
              " 'seed extrac',\n",
              " 'helps seal in moisture',\n",
              " 'nanoparticles as defined by the european commission',\n",
              " 'cetyl ester',\n",
              " 'isosorbide disunflowerseedate',\n",
              " 'cera microcristallina',\n",
              " 'inulin lauryl carbamate',\n",
              " 'polyvinyl stearyl ether',\n",
              " 'cinnamomum zeylanicum bark extract',\n",
              " 'sucrose polystearate',\n",
              " 'fatty acids and vitamins a',\n",
              " 'milk protein',\n",
              " 'glyoxal',\n",
              " 'sodiumchloride',\n",
              " 'delivered in a patented microsponge delivery system this purest form of vitamin a encourages skin renewal and helps promote collagen to reduce fine lines',\n",
              " 'iris germanica florentina root extract',\n",
              " 'phyllostachis',\n",
              " 'octyldodecyl citrate crosspolymer',\n",
              " 'shellpowder',\n",
              " 'and a new combination of honeys',\n",
              " 'naturally increases cellular water level and relieves dry',\n",
              " 'visibly improves loss of firmness',\n",
              " 'flour',\n",
              " 'diminishes the look of fine',\n",
              " 'sodium methyl stearoyltaurate',\n",
              " 'detangle',\n",
              " 'saxifraga sarmentosa extract',\n",
              " 'butyl methoxy',\n",
              " 'silica dimethyl',\n",
              " 'firms',\n",
              " 'butterflies',\n",
              " 'and calms redness',\n",
              " 'sucrose dilaurate',\n",
              " 'smaller sizes of ha deliver hydration that helps minimize the look of wrinkles',\n",
              " 'medium',\n",
              " 'visibly brightens the skin tone',\n",
              " 'triheptanoin',\n",
              " 'peg',\n",
              " 'sweet scent and a potent source of polyphenols',\n",
              " 'palmitoyl glycine',\n",
              " 'one of the richest sources of natural vitamin c in the world',\n",
              " 'glycosphingolipids',\n",
              " 'phytosteryl isostearyl dimerdilinoleate',\n",
              " 'soft punch',\n",
              " 'promote soft',\n",
              " 'supports the immune system',\n",
              " 'butter unsaponifiables',\n",
              " 'aminomethylpropanol',\n",
              " 'mimosa',\n",
              " 'linalool hydroxycitronellal',\n",
              " 'ensures even coverage',\n",
              " 'glycerinm',\n",
              " 'dimyristate',\n",
              " 'sodium dna',\n",
              " 'euglena gracilis extract',\n",
              " 'propylene glycol oleate',\n",
              " 'la',\n",
              " 'rose damascena flower oil',\n",
              " 'primrose oil',\n",
              " 'provides vitamins a',\n",
              " 'rice bran wax',\n",
              " 'activate surface renewal of the skin',\n",
              " 'calcium sodium phosphosilicate',\n",
              " 'shshell powder',\n",
              " 'sunflower',\n",
              " 'melaleuca alternifolia leaf oil laminaria digitata extract',\n",
              " 'legal',\n",
              " 'cetearyl olivate',\n",
              " 'magnesium stearate',\n",
              " 'of citrus',\n",
              " 'ulate',\n",
              " 'dimethylmethoxy chromanol',\n",
              " 'phytase',\n",
              " 'solstice',\n",
              " 'helps to diffuse accumulated excess melanin',\n",
              " 'cocamidopropyl betainamide mea chloride',\n",
              " 'aristotelia chilensis fruit extract',\n",
              " 'cryptomeria japonica bud extract',\n",
              " 'isopropyl alcohol isopropyl',\n",
              " 'ether',\n",
              " 'diheptanoate',\n",
              " 'magnesium myristate',\n",
              " 'rich in amino acids',\n",
              " 'astragalus membranaceus root extract',\n",
              " 'asarum sieboldi root extract',\n",
              " 'hydrogenated camelina sativa seed oil',\n",
              " 'diphenylsiloxy phenyl trimethicone',\n",
              " 'helps calm skin for a glowing',\n",
              " 'and helps repel dirt and oil to keep hair cleaner',\n",
              " 'hexylcinnamal',\n",
              " 'provides chemical exfoliation to target blemishes',\n",
              " 'chestnut',\n",
              " 'magnesium oleth sulfate',\n",
              " 'stimulant that promotes visibly firmer',\n",
              " 'ammonium laureth sulfate',\n",
              " 'mandarine',\n",
              " 'enhances the elasticity of hair while adding shine',\n",
              " 'stearoyl inulin',\n",
              " 'the look of wrinkles and diffuse light',\n",
              " 'sargassum pacificum thallus extract',\n",
              " 'probacillus revive',\n",
              " 'isostearyl alcohol',\n",
              " 'fructose',\n",
              " 'to balance',\n",
              " 'glyceryl hydroxystearate',\n",
              " 'spot reduction power',\n",
              " 'derived from flaxseed',\n",
              " 'sargassum fusiforme extract',\n",
              " 'bran',\n",
              " 'hibiscus abelmoschus extract',\n",
              " 'that provides a gentle',\n",
              " 'benzyl nicotinate',\n",
              " 'penty',\n",
              " 'provides targeted exfoliation',\n",
              " 'red wine extract',\n",
              " 'calcium aluminum beam silicate',\n",
              " 'cymbidium grandiflorum flower extract',\n",
              " 'brassica alba sprout extract',\n",
              " 'magnolia acuminata bark extract',\n",
              " 'distearoylamidoethylmonium methosulfate',\n",
              " 'capsicum frutescens resin',\n",
              " 'cirtronellol',\n",
              " 'isostearyl isostearate',\n",
              " 'its sophisticated',\n",
              " 'polypeptide',\n",
              " 'infrared',\n",
              " 'combines mint water',\n",
              " 'aminoethylaminopropyl dimethicone',\n",
              " 'allantoin decylene glycol',\n",
              " 'polyacryloyldimethyl taurate',\n",
              " 'outer layers with moisture',\n",
              " 'zinc mysristate',\n",
              " 'a proprietary blend of supercharged antioxidants that help mitigate the skin damage from exposure to blue light',\n",
              " 'gallic acid',\n",
              " 'cyclomethicone',\n",
              " 'zinc acetylmethionate citric acid',\n",
              " 'ethylene brassylate',\n",
              " 'bismuth oxychloride',\n",
              " 'dicetyl phosphate',\n",
              " 'exfoliates to make skin appear younger and smoother and supports the penetration of ingredients to achieve better performance for faster',\n",
              " 'saponaria officinalis leaf extract',\n",
              " 'rich in vitamins',\n",
              " 'dimethyl ether',\n",
              " 'kernel extract',\n",
              " 'extracted from the nuts of african shea tree',\n",
              " 'methyl dihydroabietate',\n",
              " 'schizonepeta tenuifolia extract',\n",
              " 'phenoxy',\n",
              " 'provides linoleic acid',\n",
              " ...]"
            ]
          },
          "metadata": {},
          "execution_count": 41
        }
      ]
    },
    {
      "cell_type": "markdown",
      "source": [
        "Decision Tree Model to predict love_class based on ingredients"
      ],
      "metadata": {
        "id": "zeLY0zahZ601"
      }
    },
    {
      "cell_type": "code",
      "source": [
        "#Create list of stop words to ignore in vectorization\n",
        "import nltk\n",
        "nltk.download('stopwords')\n",
        "from nltk.corpus import stopwords\n",
        "stop_words = stopwords.words('english')"
      ],
      "metadata": {
        "colab": {
          "base_uri": "https://localhost:8080/"
        },
        "id": "BGzWfDQeZ4ru",
        "outputId": "a8d34451-5a18-4cd8-a335-f0c39ce0785f"
      },
      "execution_count": null,
      "outputs": [
        {
          "output_type": "stream",
          "name": "stderr",
          "text": [
            "[nltk_data] Downloading package stopwords to /root/nltk_data...\n",
            "[nltk_data]   Package stopwords is already up-to-date!\n"
          ]
        },
        {
          "output_type": "execute_result",
          "data": {
            "text/plain": [
              "True"
            ]
          },
          "metadata": {},
          "execution_count": 42
        }
      ]
    },
    {
      "cell_type": "code",
      "source": [
        "# Split the data into independent variable (X) and dependent variable (y)\n",
        "X = sephora['ingredients']\n",
        "y = sephora['love_class']\n",
        "\n",
        "# Initialize the CountVectorizer with the valid words \n",
        "vectorizer = CountVectorizer(vocabulary=ingredient_phrases,ngram_range=(2,10),\n",
        "                             stop_words=stop_words)\n",
        "\n",
        "# Fit and transform the ingredient data\n",
        "X_vectorized = vectorizer.fit_transform(X)\n",
        "\n",
        "# Split the data into training and testing sets\n",
        "X_train, X_test, y_train, y_test = train_test_split(X_vectorized, y, test_size=0.3, random_state=1)\n",
        "\n",
        "# Create an instance of DecisionTreeClassifier\n",
        "ingredient_dec_tree = DecisionTreeClassifier()\n",
        "\n",
        "# Fit the model using the training data\n",
        "ingredient_dec_tree.fit(X_train, y_train)"
      ],
      "metadata": {
        "colab": {
          "base_uri": "https://localhost:8080/",
          "height": 74
        },
        "id": "tRrxyPql0hyF",
        "outputId": "a9c97761-525b-4eb7-d0a4-05119c23e166"
      },
      "execution_count": null,
      "outputs": [
        {
          "output_type": "execute_result",
          "data": {
            "text/plain": [
              "DecisionTreeClassifier()"
            ],
            "text/html": [
              "<style>#sk-container-id-8 {color: black;background-color: white;}#sk-container-id-8 pre{padding: 0;}#sk-container-id-8 div.sk-toggleable {background-color: white;}#sk-container-id-8 label.sk-toggleable__label {cursor: pointer;display: block;width: 100%;margin-bottom: 0;padding: 0.3em;box-sizing: border-box;text-align: center;}#sk-container-id-8 label.sk-toggleable__label-arrow:before {content: \"▸\";float: left;margin-right: 0.25em;color: #696969;}#sk-container-id-8 label.sk-toggleable__label-arrow:hover:before {color: black;}#sk-container-id-8 div.sk-estimator:hover label.sk-toggleable__label-arrow:before {color: black;}#sk-container-id-8 div.sk-toggleable__content {max-height: 0;max-width: 0;overflow: hidden;text-align: left;background-color: #f0f8ff;}#sk-container-id-8 div.sk-toggleable__content pre {margin: 0.2em;color: black;border-radius: 0.25em;background-color: #f0f8ff;}#sk-container-id-8 input.sk-toggleable__control:checked~div.sk-toggleable__content {max-height: 200px;max-width: 100%;overflow: auto;}#sk-container-id-8 input.sk-toggleable__control:checked~label.sk-toggleable__label-arrow:before {content: \"▾\";}#sk-container-id-8 div.sk-estimator input.sk-toggleable__control:checked~label.sk-toggleable__label {background-color: #d4ebff;}#sk-container-id-8 div.sk-label input.sk-toggleable__control:checked~label.sk-toggleable__label {background-color: #d4ebff;}#sk-container-id-8 input.sk-hidden--visually {border: 0;clip: rect(1px 1px 1px 1px);clip: rect(1px, 1px, 1px, 1px);height: 1px;margin: -1px;overflow: hidden;padding: 0;position: absolute;width: 1px;}#sk-container-id-8 div.sk-estimator {font-family: monospace;background-color: #f0f8ff;border: 1px dotted black;border-radius: 0.25em;box-sizing: border-box;margin-bottom: 0.5em;}#sk-container-id-8 div.sk-estimator:hover {background-color: #d4ebff;}#sk-container-id-8 div.sk-parallel-item::after {content: \"\";width: 100%;border-bottom: 1px solid gray;flex-grow: 1;}#sk-container-id-8 div.sk-label:hover label.sk-toggleable__label {background-color: #d4ebff;}#sk-container-id-8 div.sk-serial::before {content: \"\";position: absolute;border-left: 1px solid gray;box-sizing: border-box;top: 0;bottom: 0;left: 50%;z-index: 0;}#sk-container-id-8 div.sk-serial {display: flex;flex-direction: column;align-items: center;background-color: white;padding-right: 0.2em;padding-left: 0.2em;position: relative;}#sk-container-id-8 div.sk-item {position: relative;z-index: 1;}#sk-container-id-8 div.sk-parallel {display: flex;align-items: stretch;justify-content: center;background-color: white;position: relative;}#sk-container-id-8 div.sk-item::before, #sk-container-id-8 div.sk-parallel-item::before {content: \"\";position: absolute;border-left: 1px solid gray;box-sizing: border-box;top: 0;bottom: 0;left: 50%;z-index: -1;}#sk-container-id-8 div.sk-parallel-item {display: flex;flex-direction: column;z-index: 1;position: relative;background-color: white;}#sk-container-id-8 div.sk-parallel-item:first-child::after {align-self: flex-end;width: 50%;}#sk-container-id-8 div.sk-parallel-item:last-child::after {align-self: flex-start;width: 50%;}#sk-container-id-8 div.sk-parallel-item:only-child::after {width: 0;}#sk-container-id-8 div.sk-dashed-wrapped {border: 1px dashed gray;margin: 0 0.4em 0.5em 0.4em;box-sizing: border-box;padding-bottom: 0.4em;background-color: white;}#sk-container-id-8 div.sk-label label {font-family: monospace;font-weight: bold;display: inline-block;line-height: 1.2em;}#sk-container-id-8 div.sk-label-container {text-align: center;}#sk-container-id-8 div.sk-container {/* jupyter's `normalize.less` sets `[hidden] { display: none; }` but bootstrap.min.css set `[hidden] { display: none !important; }` so we also need the `!important` here to be able to override the default hidden behavior on the sphinx rendered scikit-learn.org. See: https://github.com/scikit-learn/scikit-learn/issues/21755 */display: inline-block !important;position: relative;}#sk-container-id-8 div.sk-text-repr-fallback {display: none;}</style><div id=\"sk-container-id-8\" class=\"sk-top-container\"><div class=\"sk-text-repr-fallback\"><pre>DecisionTreeClassifier()</pre><b>In a Jupyter environment, please rerun this cell to show the HTML representation or trust the notebook. <br />On GitHub, the HTML representation is unable to render, please try loading this page with nbviewer.org.</b></div><div class=\"sk-container\" hidden><div class=\"sk-item\"><div class=\"sk-estimator sk-toggleable\"><input class=\"sk-toggleable__control sk-hidden--visually\" id=\"sk-estimator-id-8\" type=\"checkbox\" checked><label for=\"sk-estimator-id-8\" class=\"sk-toggleable__label sk-toggleable__label-arrow\">DecisionTreeClassifier</label><div class=\"sk-toggleable__content\"><pre>DecisionTreeClassifier()</pre></div></div></div></div></div>"
            ]
          },
          "metadata": {},
          "execution_count": 45
        }
      ]
    },
    {
      "cell_type": "code",
      "source": [
        "eval_model(ingredient_dec_tree, X_train, X_test, y_train, y_test)"
      ],
      "metadata": {
        "colab": {
          "base_uri": "https://localhost:8080/"
        },
        "id": "ezGh-x1dhKF3",
        "outputId": "d9e608df-cf58-4b73-cef8-379cd6207ab6"
      },
      "execution_count": null,
      "outputs": [
        {
          "output_type": "stream",
          "name": "stdout",
          "text": [
            "              Train      Test\n",
            "Accuracy   0.959015  0.743003\n",
            "Precision  0.921601  0.357285\n",
            "Recall     0.867347  0.317376\n",
            "ROC AUC    0.983369  0.563724\n"
          ]
        }
      ]
    },
    {
      "cell_type": "markdown",
      "source": [
        "We will analyze the most important ingredient features"
      ],
      "metadata": {
        "id": "3hYBpLI1dZsx"
      }
    },
    {
      "cell_type": "code",
      "source": [
        "importances = ingredient_dec_tree.feature_importances_\n",
        "\n",
        "# Sort feature importances in descending order\n",
        "sorted_indices = np.argsort(importances)[::-1]\n",
        "\n",
        "# Get the corresponding feature names\n",
        "feature_names = vectorizer.get_feature_names_out()\n",
        "\n",
        "# Get the top 30 most important words\n",
        "top_words = [feature_names[i] for i in sorted_indices[:20]]\n",
        "\n",
        "print(\"Top 20 important ingredient words:\")\n",
        "for word in top_words:\n",
        "    print(word)"
      ],
      "metadata": {
        "colab": {
          "base_uri": "https://localhost:8080/"
        },
        "id": "1C_ZlClWeU0f",
        "outputId": "baf1ce77-0c9d-4705-fe76-6b83b7dd94b6"
      },
      "execution_count": null,
      "outputs": [
        {
          "output_type": "stream",
          "name": "stdout",
          "text": [
            "Top 20 important ingredient words:\n",
            "iron oxides\n",
            "citric acid\n",
            "titanium dioxide\n",
            "sodium hyaluronate crosspolymer\n",
            "sodium hydroxide\n",
            "fruit extract\n",
            "seed oil\n",
            "butylene glycol\n",
            "zinc stearate\n",
            "calcium sodium\n",
            "hexylene glycol\n",
            "synthetic wax\n",
            "echinacea purpurea root extract\n",
            "disteardimonium hectorite\n",
            "synthetic fluorphlogopite\n",
            "bismuth oxychloride\n",
            "acacia senegal\n",
            "castor oil\n",
            "alcohol denat\n",
            "isomethyl ionone\n"
          ]
        }
      ]
    },
    {
      "cell_type": "markdown",
      "source": [
        "Random Forest model to predict love_class based on ingredients"
      ],
      "metadata": {
        "id": "QZ-IqrBsFLgH"
      }
    },
    {
      "cell_type": "code",
      "source": [
        "# Split the data into independent variable (X) and dependent variable (y)\n",
        "X = sephora['ingredients']\n",
        "y = sephora['love_class']\n",
        "\n",
        "# Initialize the CountVectorizer with the valid words \n",
        "vectorizer = CountVectorizer(vocabulary=ingredient_phrases,ngram_range=(2,10),\n",
        "                             stop_words=stop_words)\n",
        "\n",
        "# Fit and transform the ingredient data\n",
        "X_vectorized = vectorizer.fit_transform(X)\n",
        "\n",
        "# Split the data into training and testing sets\n",
        "X_train, X_test, y_train, y_test = train_test_split(X_vectorized, y, test_size=0.3, random_state=1)\n",
        "\n",
        "# Create a Random Forest classifier\n",
        "ingredient_rf = RandomForestClassifier()\n",
        "\n",
        "# Train the model on the training data\n",
        "ingredient_rf.fit(X_train, y_train)"
      ],
      "metadata": {
        "colab": {
          "base_uri": "https://localhost:8080/",
          "height": 74
        },
        "id": "vkPgKRdA_1tt",
        "outputId": "ca088dce-3e3c-428c-a36d-bb96f88c6f6f"
      },
      "execution_count": null,
      "outputs": [
        {
          "output_type": "execute_result",
          "data": {
            "text/plain": [
              "RandomForestClassifier()"
            ],
            "text/html": [
              "<style>#sk-container-id-9 {color: black;background-color: white;}#sk-container-id-9 pre{padding: 0;}#sk-container-id-9 div.sk-toggleable {background-color: white;}#sk-container-id-9 label.sk-toggleable__label {cursor: pointer;display: block;width: 100%;margin-bottom: 0;padding: 0.3em;box-sizing: border-box;text-align: center;}#sk-container-id-9 label.sk-toggleable__label-arrow:before {content: \"▸\";float: left;margin-right: 0.25em;color: #696969;}#sk-container-id-9 label.sk-toggleable__label-arrow:hover:before {color: black;}#sk-container-id-9 div.sk-estimator:hover label.sk-toggleable__label-arrow:before {color: black;}#sk-container-id-9 div.sk-toggleable__content {max-height: 0;max-width: 0;overflow: hidden;text-align: left;background-color: #f0f8ff;}#sk-container-id-9 div.sk-toggleable__content pre {margin: 0.2em;color: black;border-radius: 0.25em;background-color: #f0f8ff;}#sk-container-id-9 input.sk-toggleable__control:checked~div.sk-toggleable__content {max-height: 200px;max-width: 100%;overflow: auto;}#sk-container-id-9 input.sk-toggleable__control:checked~label.sk-toggleable__label-arrow:before {content: \"▾\";}#sk-container-id-9 div.sk-estimator input.sk-toggleable__control:checked~label.sk-toggleable__label {background-color: #d4ebff;}#sk-container-id-9 div.sk-label input.sk-toggleable__control:checked~label.sk-toggleable__label {background-color: #d4ebff;}#sk-container-id-9 input.sk-hidden--visually {border: 0;clip: rect(1px 1px 1px 1px);clip: rect(1px, 1px, 1px, 1px);height: 1px;margin: -1px;overflow: hidden;padding: 0;position: absolute;width: 1px;}#sk-container-id-9 div.sk-estimator {font-family: monospace;background-color: #f0f8ff;border: 1px dotted black;border-radius: 0.25em;box-sizing: border-box;margin-bottom: 0.5em;}#sk-container-id-9 div.sk-estimator:hover {background-color: #d4ebff;}#sk-container-id-9 div.sk-parallel-item::after {content: \"\";width: 100%;border-bottom: 1px solid gray;flex-grow: 1;}#sk-container-id-9 div.sk-label:hover label.sk-toggleable__label {background-color: #d4ebff;}#sk-container-id-9 div.sk-serial::before {content: \"\";position: absolute;border-left: 1px solid gray;box-sizing: border-box;top: 0;bottom: 0;left: 50%;z-index: 0;}#sk-container-id-9 div.sk-serial {display: flex;flex-direction: column;align-items: center;background-color: white;padding-right: 0.2em;padding-left: 0.2em;position: relative;}#sk-container-id-9 div.sk-item {position: relative;z-index: 1;}#sk-container-id-9 div.sk-parallel {display: flex;align-items: stretch;justify-content: center;background-color: white;position: relative;}#sk-container-id-9 div.sk-item::before, #sk-container-id-9 div.sk-parallel-item::before {content: \"\";position: absolute;border-left: 1px solid gray;box-sizing: border-box;top: 0;bottom: 0;left: 50%;z-index: -1;}#sk-container-id-9 div.sk-parallel-item {display: flex;flex-direction: column;z-index: 1;position: relative;background-color: white;}#sk-container-id-9 div.sk-parallel-item:first-child::after {align-self: flex-end;width: 50%;}#sk-container-id-9 div.sk-parallel-item:last-child::after {align-self: flex-start;width: 50%;}#sk-container-id-9 div.sk-parallel-item:only-child::after {width: 0;}#sk-container-id-9 div.sk-dashed-wrapped {border: 1px dashed gray;margin: 0 0.4em 0.5em 0.4em;box-sizing: border-box;padding-bottom: 0.4em;background-color: white;}#sk-container-id-9 div.sk-label label {font-family: monospace;font-weight: bold;display: inline-block;line-height: 1.2em;}#sk-container-id-9 div.sk-label-container {text-align: center;}#sk-container-id-9 div.sk-container {/* jupyter's `normalize.less` sets `[hidden] { display: none; }` but bootstrap.min.css set `[hidden] { display: none !important; }` so we also need the `!important` here to be able to override the default hidden behavior on the sphinx rendered scikit-learn.org. See: https://github.com/scikit-learn/scikit-learn/issues/21755 */display: inline-block !important;position: relative;}#sk-container-id-9 div.sk-text-repr-fallback {display: none;}</style><div id=\"sk-container-id-9\" class=\"sk-top-container\"><div class=\"sk-text-repr-fallback\"><pre>RandomForestClassifier()</pre><b>In a Jupyter environment, please rerun this cell to show the HTML representation or trust the notebook. <br />On GitHub, the HTML representation is unable to render, please try loading this page with nbviewer.org.</b></div><div class=\"sk-container\" hidden><div class=\"sk-item\"><div class=\"sk-estimator sk-toggleable\"><input class=\"sk-toggleable__control sk-hidden--visually\" id=\"sk-estimator-id-9\" type=\"checkbox\" checked><label for=\"sk-estimator-id-9\" class=\"sk-toggleable__label sk-toggleable__label-arrow\">RandomForestClassifier</label><div class=\"sk-toggleable__content\"><pre>RandomForestClassifier()</pre></div></div></div></div></div>"
            ]
          },
          "metadata": {},
          "execution_count": 49
        }
      ]
    },
    {
      "cell_type": "code",
      "source": [
        "eval_model(ingredient_rf, X_train, X_test, y_train, y_test)"
      ],
      "metadata": {
        "colab": {
          "base_uri": "https://localhost:8080/"
        },
        "id": "jJx433tjhvL6",
        "outputId": "9febb0da-9dec-4ba1-d59b-aeffa4eb9797"
      },
      "execution_count": null,
      "outputs": [
        {
          "output_type": "stream",
          "name": "stdout",
          "text": [
            "              Train      Test\n",
            "Accuracy   0.958859  0.781897\n",
            "Precision  0.973734  0.434307\n",
            "Recall     0.814757  0.210993\n",
            "ROC AUC    0.969469  0.690802\n"
          ]
        }
      ]
    },
    {
      "cell_type": "code",
      "source": [
        "# Get the feature importance\n",
        "importances = ingredient_rf.feature_importances_\n",
        "\n",
        "# Sort feature importances in descending order\n",
        "sorted_indices = np.argsort(importances)[::-1]\n",
        "\n",
        "# Get the corresponding feature names\n",
        "feature_names = vectorizer.get_feature_names_out()\n",
        "\n",
        "# Get the top 30 most important words\n",
        "top_words = [feature_names[i] for i in sorted_indices[:20]]\n",
        "\n",
        "print(\"Top 20 important ingredient words:\")\n",
        "for word in top_words:\n",
        "    print(word)"
      ],
      "metadata": {
        "colab": {
          "base_uri": "https://localhost:8080/"
        },
        "id": "h9uQJuQ7AZPo",
        "outputId": "4d0d379c-5663-47a8-ee3f-3e545ca14789"
      },
      "execution_count": null,
      "outputs": [
        {
          "output_type": "stream",
          "name": "stdout",
          "text": [
            "Top 20 important ingredient words:\n",
            "iron oxides\n",
            "titanium dioxide\n",
            "caprylyl glycol\n",
            "seed oil\n",
            "tin oxide\n",
            "butylene glycol\n",
            "synthetic fluorphlogopite\n",
            "bismuth oxychloride\n",
            "zinc stearate\n",
            "disteardimonium hectorite\n",
            "sodium dehydroacetate\n",
            "propylene carbonate\n",
            "tocopheryl acetate\n",
            "alcohol denat\n",
            "citric acid\n",
            "manganese violet\n",
            "potassium sorbate\n",
            "leaf extract\n",
            "ethylhexyl palmitate\n",
            "benzyl alcohol\n"
          ]
        }
      ]
    },
    {
      "cell_type": "markdown",
      "source": [
        "#Hypothesis 3: \"Love\" can be predicted with brand_rank and category"
      ],
      "metadata": {
        "id": "cVK_nX-TqlNu"
      }
    },
    {
      "cell_type": "code",
      "source": [
        "# Drop rows where we don't have a brand_rank to use as feature\n",
        "sephora_br = sephora.dropna(subset=['brand_rank'])\n",
        "\n",
        "X = sephora_br[['brand_rank']]  # Features (brand_rank)\n",
        "y = sephora_br['love']  # Target variable (love)\n",
        "\n",
        "# Convert 'category' column into one-hot encoded representation\n",
        "category_dummies = pd.get_dummies(sephora_br['category'])\n",
        "X = pd.concat([X, category_dummies], axis=1)\n",
        "\n",
        "# Split the data into training and testing sets\n",
        "X_train, X_test, y_train, y_test = train_test_split(X, y, test_size=0.3, random_state=1)\n",
        "\n",
        "# Create a pipeline with PolynomialFeatures and LinearRegression\n",
        "linreg = LinearRegression()\n",
        "\n",
        "# Fit the model on the data\n",
        "linreg.fit(X_train, y_train)"
      ],
      "metadata": {
        "colab": {
          "base_uri": "https://localhost:8080/",
          "height": 74
        },
        "id": "E5dtKZ1fo7pV",
        "outputId": "dc9ec5e2-f960-48c9-9b7c-fc988f412ce6"
      },
      "execution_count": null,
      "outputs": [
        {
          "output_type": "execute_result",
          "data": {
            "text/plain": [
              "LinearRegression()"
            ],
            "text/html": [
              "<style>#sk-container-id-4 {color: black;background-color: white;}#sk-container-id-4 pre{padding: 0;}#sk-container-id-4 div.sk-toggleable {background-color: white;}#sk-container-id-4 label.sk-toggleable__label {cursor: pointer;display: block;width: 100%;margin-bottom: 0;padding: 0.3em;box-sizing: border-box;text-align: center;}#sk-container-id-4 label.sk-toggleable__label-arrow:before {content: \"▸\";float: left;margin-right: 0.25em;color: #696969;}#sk-container-id-4 label.sk-toggleable__label-arrow:hover:before {color: black;}#sk-container-id-4 div.sk-estimator:hover label.sk-toggleable__label-arrow:before {color: black;}#sk-container-id-4 div.sk-toggleable__content {max-height: 0;max-width: 0;overflow: hidden;text-align: left;background-color: #f0f8ff;}#sk-container-id-4 div.sk-toggleable__content pre {margin: 0.2em;color: black;border-radius: 0.25em;background-color: #f0f8ff;}#sk-container-id-4 input.sk-toggleable__control:checked~div.sk-toggleable__content {max-height: 200px;max-width: 100%;overflow: auto;}#sk-container-id-4 input.sk-toggleable__control:checked~label.sk-toggleable__label-arrow:before {content: \"▾\";}#sk-container-id-4 div.sk-estimator input.sk-toggleable__control:checked~label.sk-toggleable__label {background-color: #d4ebff;}#sk-container-id-4 div.sk-label input.sk-toggleable__control:checked~label.sk-toggleable__label {background-color: #d4ebff;}#sk-container-id-4 input.sk-hidden--visually {border: 0;clip: rect(1px 1px 1px 1px);clip: rect(1px, 1px, 1px, 1px);height: 1px;margin: -1px;overflow: hidden;padding: 0;position: absolute;width: 1px;}#sk-container-id-4 div.sk-estimator {font-family: monospace;background-color: #f0f8ff;border: 1px dotted black;border-radius: 0.25em;box-sizing: border-box;margin-bottom: 0.5em;}#sk-container-id-4 div.sk-estimator:hover {background-color: #d4ebff;}#sk-container-id-4 div.sk-parallel-item::after {content: \"\";width: 100%;border-bottom: 1px solid gray;flex-grow: 1;}#sk-container-id-4 div.sk-label:hover label.sk-toggleable__label {background-color: #d4ebff;}#sk-container-id-4 div.sk-serial::before {content: \"\";position: absolute;border-left: 1px solid gray;box-sizing: border-box;top: 0;bottom: 0;left: 50%;z-index: 0;}#sk-container-id-4 div.sk-serial {display: flex;flex-direction: column;align-items: center;background-color: white;padding-right: 0.2em;padding-left: 0.2em;position: relative;}#sk-container-id-4 div.sk-item {position: relative;z-index: 1;}#sk-container-id-4 div.sk-parallel {display: flex;align-items: stretch;justify-content: center;background-color: white;position: relative;}#sk-container-id-4 div.sk-item::before, #sk-container-id-4 div.sk-parallel-item::before {content: \"\";position: absolute;border-left: 1px solid gray;box-sizing: border-box;top: 0;bottom: 0;left: 50%;z-index: -1;}#sk-container-id-4 div.sk-parallel-item {display: flex;flex-direction: column;z-index: 1;position: relative;background-color: white;}#sk-container-id-4 div.sk-parallel-item:first-child::after {align-self: flex-end;width: 50%;}#sk-container-id-4 div.sk-parallel-item:last-child::after {align-self: flex-start;width: 50%;}#sk-container-id-4 div.sk-parallel-item:only-child::after {width: 0;}#sk-container-id-4 div.sk-dashed-wrapped {border: 1px dashed gray;margin: 0 0.4em 0.5em 0.4em;box-sizing: border-box;padding-bottom: 0.4em;background-color: white;}#sk-container-id-4 div.sk-label label {font-family: monospace;font-weight: bold;display: inline-block;line-height: 1.2em;}#sk-container-id-4 div.sk-label-container {text-align: center;}#sk-container-id-4 div.sk-container {/* jupyter's `normalize.less` sets `[hidden] { display: none; }` but bootstrap.min.css set `[hidden] { display: none !important; }` so we also need the `!important` here to be able to override the default hidden behavior on the sphinx rendered scikit-learn.org. See: https://github.com/scikit-learn/scikit-learn/issues/21755 */display: inline-block !important;position: relative;}#sk-container-id-4 div.sk-text-repr-fallback {display: none;}</style><div id=\"sk-container-id-4\" class=\"sk-top-container\"><div class=\"sk-text-repr-fallback\"><pre>LinearRegression()</pre><b>In a Jupyter environment, please rerun this cell to show the HTML representation or trust the notebook. <br />On GitHub, the HTML representation is unable to render, please try loading this page with nbviewer.org.</b></div><div class=\"sk-container\" hidden><div class=\"sk-item\"><div class=\"sk-estimator sk-toggleable\"><input class=\"sk-toggleable__control sk-hidden--visually\" id=\"sk-estimator-id-8\" type=\"checkbox\" checked><label for=\"sk-estimator-id-8\" class=\"sk-toggleable__label sk-toggleable__label-arrow\">LinearRegression</label><div class=\"sk-toggleable__content\"><pre>LinearRegression()</pre></div></div></div></div></div>"
            ]
          },
          "metadata": {},
          "execution_count": 20
        }
      ]
    },
    {
      "cell_type": "code",
      "source": [
        "def eval_model_reg(model, X_train, X_test, y_train, y_test):\n",
        "  # Predict the target variable for the training and testing data\n",
        "  y_train_pred = model.predict(X_train)\n",
        "  y_test_pred = model.predict(X_test)\n",
        "  \n",
        "  # Calculate the evaluation metrics \n",
        "  metrics_train = {\n",
        "      'R2': r2_score(y_train, y_train_pred),\n",
        "      'MSE': mean_squared_error(y_train, y_train_pred),\n",
        "      'RMSE': np.sqrt(mean_squared_error(y_train, y_train_pred))}\n",
        "\n",
        "  metrics_test = {\n",
        "      'R2': r2_score(y_test, y_test_pred),\n",
        "      'MSE': mean_squared_error(y_test, y_test_pred),\n",
        "      'RMSE': np.sqrt(mean_squared_error(y_train, y_train_pred))}\n",
        "\n",
        "  # Create a DataFrame to display the metrics\n",
        "  metrics_df = pd.DataFrame({'Train': metrics_train, 'Test': metrics_test})\n",
        "  # Format the values without exponential notation\n",
        "  metrics_df['Train'] = metrics_df['Train'].apply(lambda x: np.format_float_positional(x, trim='-'))\n",
        "  metrics_df['Test'] = metrics_df['Test'].apply(lambda x: np.format_float_positional(x, trim='-'))\n",
        "  print(metrics_df)"
      ],
      "metadata": {
        "id": "Wx6tJxk9pR7N"
      },
      "execution_count": null,
      "outputs": []
    },
    {
      "cell_type": "code",
      "source": [
        "eval_model_reg(linreg, X_train, X_test, y_train, y_test)"
      ],
      "metadata": {
        "colab": {
          "base_uri": "https://localhost:8080/"
        },
        "id": "juYYIANqqheO",
        "outputId": "2a598e3e-fc91-4e56-ab0d-7b9adf7b2002"
      },
      "execution_count": null,
      "outputs": [
        {
          "output_type": "stream",
          "name": "stdout",
          "text": [
            "                   Train                         Test\n",
            "R2     0.132841545125149           -82247062700660670\n",
            "MSE   1496433540.7406473  166679521351517580000000000\n",
            "RMSE   38683.76327014536            38683.76327014536\n"
          ]
        }
      ]
    }
  ]
}